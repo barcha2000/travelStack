{
 "cells": [
  {
   "cell_type": "code",
   "execution_count": 1,
   "outputs": [],
   "source": [
    "from pyspark.sql import SparkSession"
   ],
   "metadata": {
    "collapsed": false,
    "ExecuteTime": {
     "end_time": "2024-01-28T19:33:03.157176600Z",
     "start_time": "2024-01-28T19:33:02.813370700Z"
    }
   },
   "id": "dafa99b955ab7570"
  },
  {
   "cell_type": "code",
   "execution_count": 2,
   "outputs": [],
   "source": [
    "spark = SparkSession.builder.appName(\"travel\").config(\"spark.jars.packages\", \"com.databricks:spark-xml_2.12:0.17.0\").getOrCreate()"
   ],
   "metadata": {
    "collapsed": false,
    "ExecuteTime": {
     "end_time": "2024-01-28T19:33:22.750322300Z",
     "start_time": "2024-01-28T19:33:03.160926400Z"
    }
   },
   "id": "9102b60b3331f37a"
  },
  {
   "cell_type": "code",
   "execution_count": 3,
   "outputs": [],
   "source": [
    "df_posts = spark.read.format(\"com.databricks.spark.xml\").option(\"rowTag\", \"row\").option(\"rootTag\", \"posts\").load(\"../data/posts.xml\")\n",
    "df_users = spark.read.format(\"com.databricks.spark.xml\").option(\"rowTag\", \"row\").option(\"rootTag\", \"users\").load(\"../data/users.xml\")\n",
    "df_tags = spark.read.format(\"com.databricks.spark.xml\").option(\"rowTag\", \"row\").option(\"rootTag\", \"tags\").load(\"../data/tags.xml\")"
   ],
   "metadata": {
    "collapsed": false,
    "ExecuteTime": {
     "end_time": "2024-01-28T19:33:51.870912100Z",
     "start_time": "2024-01-28T19:33:22.753584400Z"
    }
   },
   "id": "c24da7d5b3abef90"
  },
  {
   "cell_type": "code",
   "execution_count": null,
   "outputs": [],
   "source": [],
   "metadata": {
    "collapsed": false
   },
   "id": "f94039ca5d84686"
  }
 ],
 "metadata": {
  "kernelspec": {
   "name": "python3",
   "language": "python",
   "display_name": "Python 3 (ipykernel)"
  },
  "language_info": {
   "codemirror_mode": {
    "name": "ipython",
    "version": 2
   },
   "file_extension": ".py",
   "mimetype": "text/x-python",
   "name": "python",
   "nbconvert_exporter": "python",
   "pygments_lexer": "ipython2",
   "version": "2.7.6"
  }
 },
 "nbformat": 4,
 "nbformat_minor": 5
}
