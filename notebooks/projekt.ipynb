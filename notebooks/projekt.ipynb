{
 "cells": [
  {
   "cell_type": "code",
   "execution_count": 1,
   "id": "ab1734c4",
   "metadata": {
    "ExecuteTime": {
     "end_time": "2024-02-09T17:59:11.721851500Z",
     "start_time": "2024-02-09T17:59:08.079986600Z"
    }
   },
   "outputs": [],
   "source": [
    "from pyspark.sql import SparkSession\n",
    "from pyspark.sql.functions import udf"
   ]
  },
  {
   "cell_type": "code",
   "execution_count": 73,
   "outputs": [],
   "source": [
    "from pyspark.ml.classification import LogisticRegression, DecisionTreeClassifier, RandomForestClassifier, RandomForestClassificationSummary, RandomForestClassificationModel, NaiveBayes, GBTClassifier,FMClassifier\n",
    "from pyspark.ml.feature import StringIndexer, OneHotEncoder, VectorAssembler, StandardScaler\n",
    "from pyspark.ml.evaluation import BinaryClassificationEvaluator, MulticlassClassificationEvaluator\n",
    "from pyspark.mllib.evaluation import MulticlassMetrics\n",
    "from pyspark.ml import Pipeline\n",
    "from pyspark.ml.tuning import ParamGridBuilder, CrossValidator\n"
   ],
   "metadata": {
    "collapsed": false,
    "ExecuteTime": {
     "end_time": "2024-02-09T22:05:22.618978200Z",
     "start_time": "2024-02-09T22:05:22.578958600Z"
    }
   },
   "id": "98f46f2216ffb229"
  },
  {
   "cell_type": "code",
   "execution_count": 3,
   "id": "1f0df13f",
   "metadata": {
    "ExecuteTime": {
     "end_time": "2024-02-09T17:59:16.469340Z",
     "start_time": "2024-02-09T17:59:16.407394400Z"
    }
   },
   "outputs": [],
   "source": [
    "import warnings\n",
    "warnings.filterwarnings('ignore')"
   ]
  },
  {
   "cell_type": "code",
   "execution_count": 4,
   "id": "f55d64a1",
   "metadata": {
    "ExecuteTime": {
     "end_time": "2024-02-09T18:00:28.955431300Z",
     "start_time": "2024-02-09T17:59:16.422238200Z"
    }
   },
   "outputs": [],
   "source": [
    "spark = SparkSession.builder.appName(\"Travel\").config(\"spark.jars.packages\",\"com.databricks:spark-xml_2.12:0.17.0\").getOrCreate()"
   ]
  },
  {
   "cell_type": "markdown",
   "id": "9af46e76",
   "metadata": {},
   "source": [
    "3 data frames from Stack Travel"
   ]
  },
  {
   "cell_type": "code",
   "execution_count": 5,
   "outputs": [],
   "source": [
    "df_posts = spark.read.format(\"com.databricks.spark.xml\").option(\"rowTag\", \"row\").option(\"rootTag\", \"posts\").load(\"../data/posts.xml\")\n",
    "df_users = spark.read.format(\"com.databricks.spark.xml\").option(\"rowTag\", \"row\").option(\"rootTag\", \"users\").load(\"../data/users.xml\")\n",
    "df_tags = spark.read.format(\"com.databricks.spark.xml\").option(\"rowTag\", \"row\").option(\"rootTag\", \"tags\").load(\"../data/tags.xml\")"
   ],
   "metadata": {
    "collapsed": false,
    "ExecuteTime": {
     "end_time": "2024-02-09T18:01:01.793401400Z",
     "start_time": "2024-02-09T18:00:28.957567400Z"
    }
   },
   "id": "f43d5e499c52c0cf"
  },
  {
   "cell_type": "markdown",
   "id": "44057458",
   "metadata": {},
   "source": [
    "Function if NaN return 0, if not NaN return 1"
   ]
  },
  {
   "cell_type": "code",
   "execution_count": 6,
   "id": "79834f88",
   "metadata": {
    "ExecuteTime": {
     "end_time": "2024-02-09T18:01:02.455628800Z",
     "start_time": "2024-02-09T18:01:01.815524500Z"
    }
   },
   "outputs": [],
   "source": [
    "@udf(returnType='int')\n",
    "def if_NaN(x):\n",
    "    if x is not None:\n",
    "        return 1\n",
    "    else:\n",
    "        return 0"
   ]
  },
  {
   "cell_type": "markdown",
   "id": "5168938c",
   "metadata": {},
   "source": [
    "Function counting length of string"
   ]
  },
  {
   "cell_type": "code",
   "execution_count": 7,
   "id": "fff602b2",
   "metadata": {
    "ExecuteTime": {
     "end_time": "2024-02-09T18:01:02.589732900Z",
     "start_time": "2024-02-09T18:01:02.483793500Z"
    }
   },
   "outputs": [],
   "source": [
    "@udf(returnType='int') \n",
    "def slen(s):\n",
    "    return len(s)"
   ]
  },
  {
   "cell_type": "markdown",
   "id": "b82fa25d",
   "metadata": {},
   "source": [
    "Creating functions finding 5 popular tag in _Tags"
   ]
  },
  {
   "cell_type": "code",
   "execution_count": 8,
   "id": "1def7f3d",
   "metadata": {
    "ExecuteTime": {
     "end_time": "2024-02-09T18:01:02.776888400Z",
     "start_time": "2024-02-09T18:01:02.591856100Z"
    }
   },
   "outputs": [],
   "source": [
    "@udf(returnType='int')\n",
    "def if_Tag1(x):\n",
    "    tag = \"<\" + popular_tags[0][0] + \">\"\n",
    "    if tag in x:\n",
    "        return 1\n",
    "    else:\n",
    "        return 0\n",
    "@udf(returnType='int')\n",
    "def if_Tag2(x):\n",
    "    tag = \"<\" + popular_tags[1][0] + \">\"\n",
    "    if tag in x:\n",
    "        return 1\n",
    "    else:\n",
    "        return 0\n",
    "\n",
    "@udf(returnType='int')\n",
    "def if_Tag3(x):\n",
    "    tag = \"<\" + popular_tags[2][0] + \">\"\n",
    "    if tag in x:\n",
    "        return 1\n",
    "    else:\n",
    "        return 0\n",
    "\n",
    "@udf(returnType='int')\n",
    "def if_Tag4(x):\n",
    "    tag = \"<\" + popular_tags[3][0] + \">\"\n",
    "    if tag in x:\n",
    "        return 1\n",
    "    else:\n",
    "        return 0\n",
    "\n",
    "@udf(returnType='int')\n",
    "def if_Tag5(x):\n",
    "    tag = \"<\" + popular_tags[4][0] + \">\"\n",
    "    if tag in x:\n",
    "        return 1\n",
    "    else:\n",
    "        return 0"
   ]
  },
  {
   "cell_type": "markdown",
   "id": "4433d19a",
   "metadata": {},
   "source": [
    "Finding most popular tags from Tags table"
   ]
  },
  {
   "cell_type": "code",
   "execution_count": 9,
   "id": "ec24633b",
   "metadata": {
    "ExecuteTime": {
     "end_time": "2024-02-09T18:01:08.999303600Z",
     "start_time": "2024-02-09T18:01:02.784629200Z"
    }
   },
   "outputs": [],
   "source": [
    "popular_tags = df_tags.select(df_tags._TagName).sort(\"_Count\", ascending = False).limit(5).collect()"
   ]
  },
  {
   "cell_type": "markdown",
   "id": "4d868a84",
   "metadata": {},
   "source": [
    "Upgraded data frame Posts:\n",
    "- questions only (PostTypeId = 1)\n",
    "- boolean AcceptedAnswerExist (1 if exist, 0 if NaN)\n",
    "- length of Body and Title\n",
    "- boolean IfClosed (1 if question is closed, 0 if NaT - not closed yet)\n",
    "- new columns (bool) defining if question has accurate tag"
   ]
  },
  {
   "cell_type": "code",
   "execution_count": 10,
   "id": "cc120fe8",
   "metadata": {
    "ExecuteTime": {
     "end_time": "2024-02-09T18:01:09.727618800Z",
     "start_time": "2024-02-09T18:01:09.008530300Z"
    }
   },
   "outputs": [],
   "source": [
    "df_posts_updated = df_posts.select(if_NaN(\"_AcceptedAnswerId\").alias(\"AcceptedAnswerExist\"), df_posts._AnswerCount,\n",
    "slen(\"_Body\").alias(\"BodyLen\"), df_posts._CommentCount, df_posts._CreationDate, if_NaN(\"_ClosedDate\").alias(\"IfClosed\"),\n",
    "df_posts._Id, df_posts._OwnerUserId, df_posts._PostTypeId, df_posts._Score, df_posts._Tags, slen(\"_Title\").alias(\"TitleLen\"),\n",
    "df_posts._ViewCount) \\\n",
    ".withColumn(\"TagVisas\",if_Tag1(\"_Tags\")) \\\n",
    ".withColumn(\"TagUsa\", if_Tag2(\"_Tags\")) \\\n",
    ".withColumn(\"TagUk\", if_Tag3(\"_Tags\")) \\\n",
    ".withColumn(\"TagAir-travel\", if_Tag4(\"_Tags\")) \\\n",
    ".withColumn(\"TagCustoms-and-immigration\", if_Tag5(\"_Tags\")) \\\n",
    ".filter(\"_PostTypeId == 1\") \\\n",
    ".filter(\"_OwnerUserId NOT LIKE 'NaN' \")"
   ]
  },
  {
   "cell_type": "markdown",
   "id": "b3ce1b73",
   "metadata": {},
   "source": [
    "Upgraded data frame Users:\n",
    "- columns Id, Location, UpVotes and Views only taken"
   ]
  },
  {
   "cell_type": "code",
   "execution_count": 11,
   "id": "2b8a1041",
   "metadata": {
    "ExecuteTime": {
     "end_time": "2024-02-09T18:01:09.865967200Z",
     "start_time": "2024-02-09T18:01:09.796343300Z"
    }
   },
   "outputs": [],
   "source": [
    "df_users_new = df_users.select(\"_Id\", \"_Location\", \"_UpVotes\", \"_Views\")"
   ]
  },
  {
   "cell_type": "markdown",
   "id": "baf91c18",
   "metadata": {},
   "source": [
    "Joining table posts and users"
   ]
  },
  {
   "cell_type": "code",
   "execution_count": 12,
   "id": "1e2dc5fd",
   "metadata": {
    "ExecuteTime": {
     "end_time": "2024-02-09T18:01:10.127308Z",
     "start_time": "2024-02-09T18:01:09.868093Z"
    }
   },
   "outputs": [],
   "source": [
    "df_main = df_posts_updated.join(df_users_new, df_posts_updated._OwnerUserId == df_users_new._Id, 'left_outer')"
   ]
  },
  {
   "cell_type": "markdown",
   "id": "9f3c3831",
   "metadata": {},
   "source": [
    "### New prepared data frame"
   ]
  },
  {
   "cell_type": "code",
   "execution_count": 13,
   "id": "30d2da61",
   "metadata": {
    "ExecuteTime": {
     "end_time": "2024-02-09T18:01:30.355620300Z",
     "start_time": "2024-02-09T18:01:10.149973600Z"
    }
   },
   "outputs": [
    {
     "data": {
      "text/plain": "   AcceptedAnswerExist  _AnswerCount  BodyLen  _CommentCount  \\\n0                    1             4      344              4   \n1                    0             8      579              4   \n2                    1             5      348              0   \n3                    1             6      274              9   \n4                    0             1      173              1   \n\n            _CreationDate  IfClosed  _Id  _OwnerUserId  _PostTypeId  _Score  \\\n0 2011-06-21 22:19:34.730         1    1             9            1       8   \n1 2011-06-21 22:22:33.760         0    2            13            1      43   \n2 2011-06-21 22:25:56.787         0    5            13            1      14   \n3 2011-06-21 22:26:53.323         0    6            19            1      89   \n4 2011-06-21 22:24:57.160         0    4            24            1       8   \n\n   ... _ViewCount  TagVisas  TagUsa  TagUk  TagAir-travel  \\\n0  ...        627         0       0      0              0   \n1  ...       3659         0       0      0              0   \n2  ...        520         0       0      0              0   \n3  ...       8093         0       0      0              0   \n4  ...        301         0       0      0              0   \n\n   TagCustoms-and-immigration  _Id                    _Location  _UpVotes  \\\n0                           0    9              Toronto, Canada       121   \n1                           0   13  New York, NY, United States        98   \n2                           0   13  New York, NY, United States        98   \n3                           0   19                         None      6663   \n4                           0   24                 New York, NY        20   \n\n  _Views  \n0     60  \n1    192  \n2    192  \n3   2412  \n4     71  \n\n[5 rows x 22 columns]",
      "text/html": "<div>\n<style scoped>\n    .dataframe tbody tr th:only-of-type {\n        vertical-align: middle;\n    }\n\n    .dataframe tbody tr th {\n        vertical-align: top;\n    }\n\n    .dataframe thead th {\n        text-align: right;\n    }\n</style>\n<table border=\"1\" class=\"dataframe\">\n  <thead>\n    <tr style=\"text-align: right;\">\n      <th></th>\n      <th>AcceptedAnswerExist</th>\n      <th>_AnswerCount</th>\n      <th>BodyLen</th>\n      <th>_CommentCount</th>\n      <th>_CreationDate</th>\n      <th>IfClosed</th>\n      <th>_Id</th>\n      <th>_OwnerUserId</th>\n      <th>_PostTypeId</th>\n      <th>_Score</th>\n      <th>...</th>\n      <th>_ViewCount</th>\n      <th>TagVisas</th>\n      <th>TagUsa</th>\n      <th>TagUk</th>\n      <th>TagAir-travel</th>\n      <th>TagCustoms-and-immigration</th>\n      <th>_Id</th>\n      <th>_Location</th>\n      <th>_UpVotes</th>\n      <th>_Views</th>\n    </tr>\n  </thead>\n  <tbody>\n    <tr>\n      <th>0</th>\n      <td>1</td>\n      <td>4</td>\n      <td>344</td>\n      <td>4</td>\n      <td>2011-06-21 22:19:34.730</td>\n      <td>1</td>\n      <td>1</td>\n      <td>9</td>\n      <td>1</td>\n      <td>8</td>\n      <td>...</td>\n      <td>627</td>\n      <td>0</td>\n      <td>0</td>\n      <td>0</td>\n      <td>0</td>\n      <td>0</td>\n      <td>9</td>\n      <td>Toronto, Canada</td>\n      <td>121</td>\n      <td>60</td>\n    </tr>\n    <tr>\n      <th>1</th>\n      <td>0</td>\n      <td>8</td>\n      <td>579</td>\n      <td>4</td>\n      <td>2011-06-21 22:22:33.760</td>\n      <td>0</td>\n      <td>2</td>\n      <td>13</td>\n      <td>1</td>\n      <td>43</td>\n      <td>...</td>\n      <td>3659</td>\n      <td>0</td>\n      <td>0</td>\n      <td>0</td>\n      <td>0</td>\n      <td>0</td>\n      <td>13</td>\n      <td>New York, NY, United States</td>\n      <td>98</td>\n      <td>192</td>\n    </tr>\n    <tr>\n      <th>2</th>\n      <td>1</td>\n      <td>5</td>\n      <td>348</td>\n      <td>0</td>\n      <td>2011-06-21 22:25:56.787</td>\n      <td>0</td>\n      <td>5</td>\n      <td>13</td>\n      <td>1</td>\n      <td>14</td>\n      <td>...</td>\n      <td>520</td>\n      <td>0</td>\n      <td>0</td>\n      <td>0</td>\n      <td>0</td>\n      <td>0</td>\n      <td>13</td>\n      <td>New York, NY, United States</td>\n      <td>98</td>\n      <td>192</td>\n    </tr>\n    <tr>\n      <th>3</th>\n      <td>1</td>\n      <td>6</td>\n      <td>274</td>\n      <td>9</td>\n      <td>2011-06-21 22:26:53.323</td>\n      <td>0</td>\n      <td>6</td>\n      <td>19</td>\n      <td>1</td>\n      <td>89</td>\n      <td>...</td>\n      <td>8093</td>\n      <td>0</td>\n      <td>0</td>\n      <td>0</td>\n      <td>0</td>\n      <td>0</td>\n      <td>19</td>\n      <td>None</td>\n      <td>6663</td>\n      <td>2412</td>\n    </tr>\n    <tr>\n      <th>4</th>\n      <td>0</td>\n      <td>1</td>\n      <td>173</td>\n      <td>1</td>\n      <td>2011-06-21 22:24:57.160</td>\n      <td>0</td>\n      <td>4</td>\n      <td>24</td>\n      <td>1</td>\n      <td>8</td>\n      <td>...</td>\n      <td>301</td>\n      <td>0</td>\n      <td>0</td>\n      <td>0</td>\n      <td>0</td>\n      <td>0</td>\n      <td>24</td>\n      <td>New York, NY</td>\n      <td>20</td>\n      <td>71</td>\n    </tr>\n  </tbody>\n</table>\n<p>5 rows × 22 columns</p>\n</div>"
     },
     "execution_count": 13,
     "metadata": {},
     "output_type": "execute_result"
    }
   ],
   "source": [
    "df_main.limit(5).toPandas()"
   ]
  },
  {
   "cell_type": "code",
   "execution_count": 14,
   "outputs": [],
   "source": [
    "df_classification = df_main.drop(\"_CreationDate\",\"_Id\",\"_OwnerUserId\",\"_PostTypeId\",\"_Tags\",\"_Location\")"
   ],
   "metadata": {
    "collapsed": false,
    "ExecuteTime": {
     "end_time": "2024-02-09T18:01:30.522781Z",
     "start_time": "2024-02-09T18:01:30.349933600Z"
    }
   },
   "id": "348c57798914ad45"
  },
  {
   "cell_type": "code",
   "execution_count": 17,
   "outputs": [
    {
     "name": "stdout",
     "output_type": "stream",
     "text": [
      "+-------------------+------------+-------+-------------+--------+------+--------+----------+--------+------+-----+-------------+--------------------------+--------+------+\n",
      "|AcceptedAnswerExist|_AnswerCount|BodyLen|_CommentCount|IfClosed|_Score|TitleLen|_ViewCount|TagVisas|TagUsa|TagUk|TagAir-travel|TagCustoms-and-immigration|_UpVotes|_Views|\n",
      "+-------------------+------------+-------+-------------+--------+------+--------+----------+--------+------+-----+-------------+--------------------------+--------+------+\n",
      "|                  1|           4|    344|            4|       1|     8|      44|       627|       0|     0|    0|            0|                         0|     121|    60|\n",
      "|                  0|           8|    579|            4|       0|    43|      73|      3659|       0|     0|    0|            0|                         0|      98|   192|\n",
      "|                  1|           5|    348|            0|       0|    14|      77|       520|       0|     0|    0|            0|                         0|      98|   192|\n",
      "|                  1|           6|    274|            9|       0|    89|      27|      8093|       0|     0|    0|            0|                         0|    6663|  2412|\n",
      "|                  0|           1|    173|            1|       0|     8|      70|       301|       0|     0|    0|            0|                         0|      20|    71|\n",
      "+-------------------+------------+-------+-------------+--------+------+--------+----------+--------+------+-----+-------------+--------------------------+--------+------+\n"
     ]
    }
   ],
   "source": [
    "df_classification.limit(5).show()"
   ],
   "metadata": {
    "collapsed": false,
    "ExecuteTime": {
     "end_time": "2024-02-09T18:01:56.766372400Z",
     "start_time": "2024-02-09T18:01:43.981259400Z"
    }
   },
   "id": "506380fd0aba7ac1"
  },
  {
   "cell_type": "markdown",
   "source": [
    "## Preoprocessing"
   ],
   "metadata": {
    "collapsed": false
   },
   "id": "d622836d407a31b9"
  },
  {
   "cell_type": "code",
   "execution_count": 67,
   "outputs": [],
   "source": [
    "#Train/Test split\n",
    "train, test = df_classification.randomSplit([0.8, 0.2], seed=12345)"
   ],
   "metadata": {
    "collapsed": false,
    "ExecuteTime": {
     "end_time": "2024-02-09T20:40:54.568873Z",
     "start_time": "2024-02-09T20:40:54.514877400Z"
    }
   },
   "id": "92f84ad7cc8deb8f"
  },
  {
   "cell_type": "code",
   "execution_count": 19,
   "outputs": [],
   "source": [
    "#Columns normalization\n",
    "\n",
    "columns_to_normalize = [\"_AnswerCount\", \"_CommentCount\", \"BodyLen\", \"_Score\", \"TitleLen\", \"_ViewCount\", \"_UpVotes\", \"_Views\"]\n",
    "num_assembler = VectorAssembler(inputCols=columns_to_normalize, outputCol=\"numeric_features\")\n",
    "scaler = StandardScaler(inputCol=\"numeric_features\", outputCol=\"scaled_features\")\n",
    "\n",
    "#Merging with other columns\n",
    "\n",
    "final_columns = [\"scaled_features\", \"TagVisas\", \"TagUsa\", \"TagUk\", \"TagAir-travel\", \"TagCustoms-and-immigration\", \"IfClosed\"]\n",
    "final_assembler = VectorAssembler(inputCols=final_columns, outputCol=\"final_features\")"
   ],
   "metadata": {
    "collapsed": false,
    "ExecuteTime": {
     "end_time": "2024-02-09T18:01:57.486890800Z",
     "start_time": "2024-02-09T18:01:56.914723600Z"
    }
   },
   "id": "5c6e368ecbd7067b"
  },
  {
   "cell_type": "code",
   "outputs": [],
   "source": [
    "def buildAndEvaluateModel(classifierType, df, *args, **kwargs):\n",
    "    classifier = classifierType(featuresCol=\"final_features\", labelCol=\"AcceptedAnswerExist\", *args, **kwargs)\n",
    "    pipeline = Pipeline(stages=[num_assembler, scaler, final_assembler, classifier])\n",
    "    \n",
    "    binaryEvaluator = BinaryClassificationEvaluator(labelCol=\"AcceptedAnswerExist\", rawPredictionCol=\"rawPrediction\",\n",
    "                                                    metricName=\"areaUnderROC\")\n",
    "    multiEvaluator = MulticlassClassificationEvaluator(labelCol=\"AcceptedAnswerExist\", predictionCol=\"prediction\",\n",
    "                                                       metricName=\"accuracy\")\n",
    "    paramGrid = ParamGridBuilder().build() \n",
    "    crossval = CrossValidator(estimator=pipeline,\n",
    "                              estimatorParamMaps=paramGrid,\n",
    "                              evaluator=multiEvaluator,  \n",
    "                              numFolds=5) \n",
    "\n",
    "    cvModel = crossval.fit(df)\n",
    "    predictions = cvModel.transform(test)\n",
    "    \n",
    "    auc = binaryEvaluator.evaluate(predictions)\n",
    "    print(\"AUC:\", auc)\n",
    "    accuracy = multiEvaluator.evaluate(predictions)\n",
    "    print(\"Skuteczność:\", accuracy)\n",
    "    predictionAndLabels = predictions.select(\"prediction\", \"AcceptedAnswerExist\").rdd.map(\n",
    "        lambda row: (float(row[0]), float(row[1])))\n",
    "    metrics = MulticlassMetrics(predictionAndLabels)\n",
    "    confusionMatrix = metrics.confusionMatrix().toArray()\n",
    "    print(\"Macierz pomyłek:\\n\", confusionMatrix)\n",
    "    \n",
    "    TP = confusionMatrix[0, 0]\n",
    "    FN = confusionMatrix[0, 1]\n",
    "    FP = confusionMatrix[1, 0]\n",
    "    TN = confusionMatrix[1, 1]\n",
    "    \n",
    "    TPR = TP / (TP + FN) if (TP + FN) != 0 else 0\n",
    "    TNR = TN / (TN + FP) if (TN + FP) != 0 else 0\n",
    "    \n",
    "    informedness = TPR + TNR - 1\n",
    "    print(\"Informedness:\\n\", informedness)\n",
    "\n",
    "    return {\"accuracy\": accuracy, \"AUC\": auc, \"confusionMatrix\": confusionMatrix, \"Informedness\": informedness}"
   ],
   "metadata": {
    "collapsed": false,
    "ExecuteTime": {
     "end_time": "2024-02-09T22:24:36.768538200Z",
     "start_time": "2024-02-09T22:24:36.713543600Z"
    }
   },
   "id": "cdc62716e47156d5",
   "execution_count": 81
  },
  {
   "cell_type": "code",
   "outputs": [],
   "source": [
    "def simulations(model_types, df, results=None, *args, **kwargs):\n",
    "    if results is None:\n",
    "        results = {}\n",
    "    for i in model_types:\n",
    "        name = i.__name__\n",
    "        print(\"\\n\\nWyniki dla \"+ name)\n",
    "        try:\n",
    "            results[name] = buildAndEvaluateModel(i, df,  *args, **kwargs)\n",
    "        except:\n",
    "            print(\"Błąd dla \" + i)\n",
    "    return results"
   ],
   "metadata": {
    "collapsed": false,
    "ExecuteTime": {
     "end_time": "2024-02-09T23:03:49.271961400Z",
     "start_time": "2024-02-09T23:03:49.242976300Z"
    }
   },
   "id": "f0db8f4bcec5b194",
   "execution_count": 86
  },
  {
   "cell_type": "code",
   "outputs": [
    {
     "name": "stdout",
     "output_type": "stream",
     "text": [
      "\n",
      "\n",
      "Wyniki dla LogisticRegression\n"
     ]
    },
    {
     "ename": "TypeError",
     "evalue": "can only concatenate str (not \"ABCMeta\") to str",
     "output_type": "error",
     "traceback": [
      "\u001B[1;31m---------------------------------------------------------------------------\u001B[0m",
      "\u001B[1;31mIndexError\u001B[0m                                Traceback (most recent call last)",
      "File \u001B[1;32m~\\AppData\\Local\\Programs\\Python\\Python38\\lib\\multiprocessing\\pool.py:851\u001B[0m, in \u001B[0;36mIMapIterator.next\u001B[1;34m(self, timeout)\u001B[0m\n\u001B[0;32m    850\u001B[0m \u001B[38;5;28;01mtry\u001B[39;00m:\n\u001B[1;32m--> 851\u001B[0m     item \u001B[38;5;241m=\u001B[39m \u001B[38;5;28;43mself\u001B[39;49m\u001B[38;5;241;43m.\u001B[39;49m\u001B[43m_items\u001B[49m\u001B[38;5;241;43m.\u001B[39;49m\u001B[43mpopleft\u001B[49m\u001B[43m(\u001B[49m\u001B[43m)\u001B[49m\n\u001B[0;32m    852\u001B[0m \u001B[38;5;28;01mexcept\u001B[39;00m \u001B[38;5;167;01mIndexError\u001B[39;00m:\n",
      "\u001B[1;31mIndexError\u001B[0m: pop from an empty deque",
      "\nDuring handling of the above exception, another exception occurred:\n",
      "\u001B[1;31mKeyboardInterrupt\u001B[0m                         Traceback (most recent call last)",
      "Cell \u001B[1;32mIn[86], line 8\u001B[0m, in \u001B[0;36msimulations\u001B[1;34m(model_types, df, results, *args, **kwargs)\u001B[0m\n\u001B[0;32m      7\u001B[0m \u001B[38;5;28;01mtry\u001B[39;00m:\n\u001B[1;32m----> 8\u001B[0m     results[name] \u001B[38;5;241m=\u001B[39m \u001B[43mbuildAndEvaluateModel\u001B[49m\u001B[43m(\u001B[49m\u001B[43mi\u001B[49m\u001B[43m,\u001B[49m\u001B[43m \u001B[49m\u001B[43mdf\u001B[49m\u001B[43m,\u001B[49m\u001B[43m  \u001B[49m\u001B[38;5;241;43m*\u001B[39;49m\u001B[43margs\u001B[49m\u001B[43m,\u001B[49m\u001B[43m \u001B[49m\u001B[38;5;241;43m*\u001B[39;49m\u001B[38;5;241;43m*\u001B[39;49m\u001B[43mkwargs\u001B[49m\u001B[43m)\u001B[49m\n\u001B[0;32m      9\u001B[0m \u001B[38;5;28;01mexcept\u001B[39;00m:\n",
      "Cell \u001B[1;32mIn[81], line 15\u001B[0m, in \u001B[0;36mbuildAndEvaluateModel\u001B[1;34m(classifierType, df, *args, **kwargs)\u001B[0m\n\u001B[0;32m     10\u001B[0m crossval \u001B[38;5;241m=\u001B[39m CrossValidator(estimator\u001B[38;5;241m=\u001B[39mpipeline,\n\u001B[0;32m     11\u001B[0m                           estimatorParamMaps\u001B[38;5;241m=\u001B[39mparamGrid,\n\u001B[0;32m     12\u001B[0m                           evaluator\u001B[38;5;241m=\u001B[39mmultiEvaluator,  \n\u001B[0;32m     13\u001B[0m                           numFolds\u001B[38;5;241m=\u001B[39m\u001B[38;5;241m5\u001B[39m) \n\u001B[1;32m---> 15\u001B[0m cvModel \u001B[38;5;241m=\u001B[39m \u001B[43mcrossval\u001B[49m\u001B[38;5;241;43m.\u001B[39;49m\u001B[43mfit\u001B[49m\u001B[43m(\u001B[49m\u001B[43mdf\u001B[49m\u001B[43m)\u001B[49m\n\u001B[0;32m     16\u001B[0m predictions \u001B[38;5;241m=\u001B[39m cvModel\u001B[38;5;241m.\u001B[39mtransform(test)\n",
      "File \u001B[1;32m~\\sparkVenv\\lib\\site-packages\\pyspark\\ml\\base.py:205\u001B[0m, in \u001B[0;36mEstimator.fit\u001B[1;34m(self, dataset, params)\u001B[0m\n\u001B[0;32m    204\u001B[0m     \u001B[38;5;28;01melse\u001B[39;00m:\n\u001B[1;32m--> 205\u001B[0m         \u001B[38;5;28;01mreturn\u001B[39;00m \u001B[38;5;28;43mself\u001B[39;49m\u001B[38;5;241;43m.\u001B[39;49m\u001B[43m_fit\u001B[49m\u001B[43m(\u001B[49m\u001B[43mdataset\u001B[49m\u001B[43m)\u001B[49m\n\u001B[0;32m    206\u001B[0m \u001B[38;5;28;01melse\u001B[39;00m:\n",
      "File \u001B[1;32m~\\sparkVenv\\lib\\site-packages\\pyspark\\ml\\tuning.py:847\u001B[0m, in \u001B[0;36mCrossValidator._fit\u001B[1;34m(self, dataset)\u001B[0m\n\u001B[0;32m    843\u001B[0m tasks \u001B[38;5;241m=\u001B[39m \u001B[38;5;28mmap\u001B[39m(\n\u001B[0;32m    844\u001B[0m     inheritable_thread_target,\n\u001B[0;32m    845\u001B[0m     _parallelFitTasks(est, train, eva, validation, epm, collectSubModelsParam),\n\u001B[0;32m    846\u001B[0m )\n\u001B[1;32m--> 847\u001B[0m \u001B[38;5;28;01mfor\u001B[39;00m j, metric, subModel \u001B[38;5;129;01min\u001B[39;00m pool\u001B[38;5;241m.\u001B[39mimap_unordered(\u001B[38;5;28;01mlambda\u001B[39;00m f: f(), tasks):\n\u001B[0;32m    848\u001B[0m     metrics_all[i][j] \u001B[38;5;241m=\u001B[39m metric\n",
      "File \u001B[1;32m~\\AppData\\Local\\Programs\\Python\\Python38\\lib\\multiprocessing\\pool.py:856\u001B[0m, in \u001B[0;36mIMapIterator.next\u001B[1;34m(self, timeout)\u001B[0m\n\u001B[0;32m    855\u001B[0m     \u001B[38;5;28;01mraise\u001B[39;00m \u001B[38;5;167;01mStopIteration\u001B[39;00m \u001B[38;5;28;01mfrom\u001B[39;00m \u001B[38;5;28;01mNone\u001B[39;00m\n\u001B[1;32m--> 856\u001B[0m \u001B[38;5;28;43mself\u001B[39;49m\u001B[38;5;241;43m.\u001B[39;49m\u001B[43m_cond\u001B[49m\u001B[38;5;241;43m.\u001B[39;49m\u001B[43mwait\u001B[49m\u001B[43m(\u001B[49m\u001B[43mtimeout\u001B[49m\u001B[43m)\u001B[49m\n\u001B[0;32m    857\u001B[0m \u001B[38;5;28;01mtry\u001B[39;00m:\n",
      "File \u001B[1;32m~\\AppData\\Local\\Programs\\Python\\Python38\\lib\\threading.py:302\u001B[0m, in \u001B[0;36mCondition.wait\u001B[1;34m(self, timeout)\u001B[0m\n\u001B[0;32m    301\u001B[0m \u001B[38;5;28;01mif\u001B[39;00m timeout \u001B[38;5;129;01mis\u001B[39;00m \u001B[38;5;28;01mNone\u001B[39;00m:\n\u001B[1;32m--> 302\u001B[0m     \u001B[43mwaiter\u001B[49m\u001B[38;5;241;43m.\u001B[39;49m\u001B[43macquire\u001B[49m\u001B[43m(\u001B[49m\u001B[43m)\u001B[49m\n\u001B[0;32m    303\u001B[0m     gotit \u001B[38;5;241m=\u001B[39m \u001B[38;5;28;01mTrue\u001B[39;00m\n",
      "\u001B[1;31mKeyboardInterrupt\u001B[0m: ",
      "\nDuring handling of the above exception, another exception occurred:\n",
      "\u001B[1;31mTypeError\u001B[0m                                 Traceback (most recent call last)",
      "Cell \u001B[1;32mIn[87], line 2\u001B[0m\n\u001B[0;32m      1\u001B[0m model_types \u001B[38;5;241m=\u001B[39m [LogisticRegression, FMClassifier, DecisionTreeClassifier, RandomForestClassifier, GBTClassifier]\n\u001B[1;32m----> 2\u001B[0m results_of_simulations \u001B[38;5;241m=\u001B[39m \u001B[43msimulations\u001B[49m\u001B[43m(\u001B[49m\u001B[43mmodel_types\u001B[49m\u001B[43m,\u001B[49m\u001B[43m \u001B[49m\u001B[43mdf_classification\u001B[49m\u001B[43m)\u001B[49m\n",
      "Cell \u001B[1;32mIn[86], line 10\u001B[0m, in \u001B[0;36msimulations\u001B[1;34m(model_types, df, results, *args, **kwargs)\u001B[0m\n\u001B[0;32m      8\u001B[0m         results[name] \u001B[38;5;241m=\u001B[39m buildAndEvaluateModel(i, df,  \u001B[38;5;241m*\u001B[39margs, \u001B[38;5;241m*\u001B[39m\u001B[38;5;241m*\u001B[39mkwargs)\n\u001B[0;32m      9\u001B[0m     \u001B[38;5;28;01mexcept\u001B[39;00m:\n\u001B[1;32m---> 10\u001B[0m         \u001B[38;5;28mprint\u001B[39m(\u001B[38;5;124;43m\"\u001B[39;49m\u001B[38;5;124;43mBłąd dla \u001B[39;49m\u001B[38;5;124;43m\"\u001B[39;49m\u001B[43m \u001B[49m\u001B[38;5;241;43m+\u001B[39;49m\u001B[43m \u001B[49m\u001B[43mi\u001B[49m)\n\u001B[0;32m     11\u001B[0m \u001B[38;5;28;01mreturn\u001B[39;00m results\n",
      "\u001B[1;31mTypeError\u001B[0m: can only concatenate str (not \"ABCMeta\") to str"
     ]
    }
   ],
   "source": [
    "model_types = [LogisticRegression, FMClassifier, DecisionTreeClassifier, RandomForestClassifier, GBTClassifier]\n",
    "results_of_simulations = simulations(model_types, df_classification)"
   ],
   "metadata": {
    "collapsed": false,
    "ExecuteTime": {
     "end_time": "2024-02-09T23:04:56.154955600Z",
     "start_time": "2024-02-09T23:03:56.921191700Z"
    }
   },
   "id": "c7fdc828af2fc562",
   "execution_count": 87
  },
  {
   "cell_type": "code",
   "outputs": [],
   "source": [],
   "metadata": {
    "collapsed": false
   },
   "id": "cf161d9d60aabab5"
  },
  {
   "cell_type": "code",
   "outputs": [],
   "source": [],
   "metadata": {
    "collapsed": false
   },
   "id": "7567d8fa16e15df4"
  },
  {
   "cell_type": "code",
   "outputs": [],
   "source": [],
   "metadata": {
    "collapsed": false
   },
   "id": "a004458a59d33333"
  },
  {
   "cell_type": "code",
   "outputs": [],
   "source": [],
   "metadata": {
    "collapsed": false
   },
   "id": "18c49bf03839f55b"
  },
  {
   "cell_type": "code",
   "outputs": [],
   "source": [],
   "metadata": {
    "collapsed": false
   },
   "id": "abefb409094d2f03"
  },
  {
   "cell_type": "code",
   "outputs": [],
   "source": [],
   "metadata": {
    "collapsed": false
   },
   "id": "87579ddd853edd59"
  },
  {
   "cell_type": "code",
   "outputs": [],
   "source": [],
   "metadata": {
    "collapsed": false
   },
   "id": "3031fe2c0e461a21"
  },
  {
   "cell_type": "code",
   "outputs": [],
   "source": [],
   "metadata": {
    "collapsed": false
   },
   "id": "754dc3aa1330497b"
  },
  {
   "cell_type": "code",
   "outputs": [],
   "source": [],
   "metadata": {
    "collapsed": false
   },
   "id": "860b86025ac094d"
  },
  {
   "cell_type": "code",
   "outputs": [],
   "source": [],
   "metadata": {
    "collapsed": false
   },
   "id": "b641ada5c83e968d"
  },
  {
   "cell_type": "code",
   "outputs": [],
   "source": [],
   "metadata": {
    "collapsed": false
   },
   "id": "fa9a0f3161644411"
  },
  {
   "cell_type": "code",
   "execution_count": 20,
   "outputs": [],
   "source": [
    "#Logistic Regression\n",
    "lr = LogisticRegression(featuresCol=\"final_features\", labelCol=\"AcceptedAnswerExist\")\n",
    "pipeline_regLog = Pipeline(stages=[num_assembler, scaler, final_assembler, lr])\n",
    "model_regLog = pipeline_regLog.fit(train)"
   ],
   "metadata": {
    "collapsed": false,
    "ExecuteTime": {
     "end_time": "2024-02-09T18:04:02.334939100Z",
     "start_time": "2024-02-09T18:01:57.496493500Z"
    }
   },
   "id": "96685f1d0d5c3285"
  },
  {
   "cell_type": "code",
   "execution_count": 23,
   "outputs": [
    {
     "name": "stdout",
     "output_type": "stream",
     "text": [
      "AUC: 0.7511411013033443\n",
      "Accuracy: 0.6985458019318543\n",
      "Confusion Matrix:\n",
      " [[5076.  716.]\n",
      " [2124. 1505.]]\n"
     ]
    }
   ],
   "source": [
    "#Logistic Regression Evaluation\n",
    "\n",
    "predictions = model_regLog.transform(test)\n",
    "evaluator = BinaryClassificationEvaluator(labelCol=\"AcceptedAnswerExist\", rawPredictionCol=\"rawPrediction\",\n",
    "                                          metricName=\"areaUnderROC\")\n",
    "auc = evaluator.evaluate(predictions)\n",
    "\n",
    "print(\"AUC:\", auc)\n",
    "\n",
    "evaluator = MulticlassClassificationEvaluator(labelCol=\"AcceptedAnswerExist\", predictionCol=\"prediction\",\n",
    "                                          metricName=\"accuracy\")\n",
    "accuracy = evaluator.evaluate(predictions)\n",
    "print(\"Accuracy:\", accuracy)\n",
    "\n",
    "predictionAndLabels = predictions.select(\"prediction\", \"AcceptedAnswerExist\").rdd.map(\n",
    "    lambda row: (float(row[0]), float(row[1])))\n",
    "\n",
    "metrics = MulticlassMetrics(predictionAndLabels)\n",
    "confusionMatrix = metrics.confusionMatrix().toArray()\n",
    "print(\"Confusion Matrix:\\n\", confusionMatrix)"
   ],
   "metadata": {
    "collapsed": false,
    "ExecuteTime": {
     "end_time": "2024-02-09T18:10:40.801769Z",
     "start_time": "2024-02-09T18:09:33.985251500Z"
    }
   },
   "id": "260e4840667ccc24"
  },
  {
   "cell_type": "code",
   "execution_count": 24,
   "outputs": [],
   "source": [
    "#Decision Tree\n",
    "dc = DecisionTreeClassifier(featuresCol=\"final_features\", labelCol=\"AcceptedAnswerExist\")\n",
    "pipeline_decisionTree = Pipeline(stages=[num_assembler, scaler, final_assembler, dc])\n",
    "model_decisionTree = pipeline_decisionTree.fit(train)"
   ],
   "metadata": {
    "collapsed": false,
    "ExecuteTime": {
     "end_time": "2024-02-09T18:12:09.640013400Z",
     "start_time": "2024-02-09T18:10:42.970953600Z"
    }
   },
   "id": "c7c2c30f5237996"
  },
  {
   "cell_type": "code",
   "execution_count": 25,
   "outputs": [
    {
     "name": "stdout",
     "output_type": "stream",
     "text": [
      "AUC: 0.7361625350727489\n",
      "Accuracy: 0.7891943530410784\n",
      "Confusion Matrix:\n",
      " [[4328. 1464.]\n",
      " [ 522. 3107.]]\n"
     ]
    }
   ],
   "source": [
    "#Decision Tree Evaluation\n",
    "\n",
    "predictions = model_decisionTree.transform(test)\n",
    "evaluator = BinaryClassificationEvaluator(labelCol=\"AcceptedAnswerExist\", rawPredictionCol=\"rawPrediction\",\n",
    "                                          metricName=\"areaUnderROC\")\n",
    "auc = evaluator.evaluate(predictions)\n",
    "\n",
    "print(\"AUC:\", auc)\n",
    "\n",
    "evaluator = MulticlassClassificationEvaluator(labelCol=\"AcceptedAnswerExist\", predictionCol=\"prediction\",\n",
    "                                          metricName=\"accuracy\")\n",
    "accuracy = evaluator.evaluate(predictions)\n",
    "print(\"Accuracy:\", accuracy)\n",
    "\n",
    "predictionAndLabels = predictions.select(\"prediction\", \"AcceptedAnswerExist\").rdd.map(\n",
    "    lambda row: (float(row[0]), float(row[1])))\n",
    "\n",
    "metrics = MulticlassMetrics(predictionAndLabels)\n",
    "confusionMatrix = metrics.confusionMatrix().toArray()\n",
    "print(\"Confusion Matrix:\\n\", confusionMatrix)"
   ],
   "metadata": {
    "collapsed": false,
    "ExecuteTime": {
     "end_time": "2024-02-09T18:13:30.276323Z",
     "start_time": "2024-02-09T18:12:09.652128300Z"
    }
   },
   "id": "dc3a32db03f6ce69"
  },
  {
   "cell_type": "markdown",
   "source": [
    "Joinować tylko to co potrzebujemy, żeby nie było duplikatów\n",
    "Kolumna z najpolpularniejszym tagiem i najmniej popularnym"
   ],
   "metadata": {
    "collapsed": false
   },
   "id": "fdf58924371ca086"
  },
  {
   "cell_type": "code",
   "execution_count": 84,
   "outputs": [],
   "source": [
    "#Random Forest\n",
    "dc = FMClassifier(featuresCol=\"final_features\", labelCol=\"AcceptedAnswerExist\")\n",
    "pipeline_randomForest = Pipeline(stages=[num_assembler, scaler, final_assembler, dc])\n",
    "model_randomForest = pipeline_randomForest.fit(train)"
   ],
   "metadata": {
    "collapsed": false,
    "ExecuteTime": {
     "end_time": "2024-02-09T22:56:40.357580300Z",
     "start_time": "2024-02-09T22:54:24.617831600Z"
    }
   },
   "id": "9d2ca5e9de273709"
  },
  {
   "cell_type": "code",
   "execution_count": 85,
   "outputs": [
    {
     "name": "stdout",
     "output_type": "stream",
     "text": [
      "AUC: 0.7607375325226954\n",
      "Accuracy: 0.7067190319498992\n",
      "Confusion Matrix:\n",
      " [[4896.  896.]\n",
      " [1867. 1762.]]\n"
     ]
    }
   ],
   "source": [
    "#Random Forest Evaluation\n",
    "\n",
    "predictions = model_randomForest.transform(test)\n",
    "evaluator = BinaryClassificationEvaluator(labelCol=\"AcceptedAnswerExist\", rawPredictionCol=\"rawPrediction\",\n",
    "                                          metricName=\"areaUnderROC\")\n",
    "auc = evaluator.evaluate(predictions)\n",
    "\n",
    "print(\"AUC:\", auc)\n",
    "\n",
    "evaluator = MulticlassClassificationEvaluator(labelCol=\"AcceptedAnswerExist\", predictionCol=\"prediction\",\n",
    "                                          metricName=\"accuracy\")\n",
    "accuracy = evaluator.evaluate(predictions)\n",
    "print(\"Accuracy:\", accuracy)\n",
    "\n",
    "predictionAndLabels = predictions.select(\"prediction\", \"AcceptedAnswerExist\").rdd.map(\n",
    "    lambda row: (float(row[0]), float(row[1])))\n",
    "\n",
    "metrics = MulticlassMetrics(predictionAndLabels)\n",
    "confusionMatrix = metrics.confusionMatrix().toArray()\n",
    "print(\"Confusion Matrix:\\n\", confusionMatrix)"
   ],
   "metadata": {
    "collapsed": false,
    "ExecuteTime": {
     "end_time": "2024-02-09T22:59:14.375890Z",
     "start_time": "2024-02-09T22:58:01.116930400Z"
    }
   },
   "id": "af7de3c16fe2f5f9"
  },
  {
   "cell_type": "code",
   "outputs": [],
   "source": [
    "#Gradient Boost Trees\n",
    "gbt = GBTClassifier(featuresCol=\"final_features\", labelCol=\"AcceptedAnswerExist\", maxIter=10)\n",
    "pipeline_gbt = Pipeline(stages=[num_assembler, scaler, final_assembler, gbt])\n",
    "model_gbt = pipeline_gbt.fit(train)"
   ],
   "metadata": {
    "collapsed": false,
    "ExecuteTime": {
     "end_time": "2024-02-09T20:42:26.705564300Z",
     "start_time": "2024-02-09T20:41:20.482281600Z"
    }
   },
   "id": "47cb0d6777652814",
   "execution_count": 69
  },
  {
   "cell_type": "code",
   "outputs": [
    {
     "name": "stdout",
     "output_type": "stream",
     "text": [
      "AUC: 0.8592415265913481\n",
      "Accuracy: 0.7934401868166862\n",
      "Confusion Matrix:\n",
      " [[4390. 1402.]\n",
      " [ 544. 3085.]]\n"
     ]
    }
   ],
   "source": [
    "#Gradient Boost Trees Evaluation\n",
    "\n",
    "predictions = model_gbt.transform(test)\n",
    "evaluator = BinaryClassificationEvaluator(labelCol=\"AcceptedAnswerExist\", rawPredictionCol=\"rawPrediction\",\n",
    "                                          metricName=\"areaUnderROC\")\n",
    "auc = evaluator.evaluate(predictions)\n",
    "\n",
    "print(\"AUC:\", auc)\n",
    "\n",
    "evaluator = MulticlassClassificationEvaluator(labelCol=\"AcceptedAnswerExist\", predictionCol=\"prediction\",\n",
    "                                          metricName=\"accuracy\")\n",
    "accuracy = evaluator.evaluate(predictions)\n",
    "print(\"Accuracy:\", accuracy)\n",
    "\n",
    "predictionAndLabels = predictions.select(\"prediction\", \"AcceptedAnswerExist\").rdd.map(\n",
    "    lambda row: (float(row[0]), float(row[1])))\n",
    "\n",
    "metrics = MulticlassMetrics(predictionAndLabels)\n",
    "confusionMatrix = metrics.confusionMatrix().toArray()\n",
    "print(\"Confusion Matrix:\\n\", confusionMatrix)"
   ],
   "metadata": {
    "collapsed": false,
    "ExecuteTime": {
     "end_time": "2024-02-09T20:43:38.250518600Z",
     "start_time": "2024-02-09T20:42:26.713562700Z"
    }
   },
   "id": "f7c09374ef44ba49",
   "execution_count": 70
  },
  {
   "cell_type": "code",
   "outputs": [],
   "source": [],
   "metadata": {
    "collapsed": false
   },
   "id": "df11c7c8b4d38030"
  }
 ],
 "metadata": {
  "kernelspec": {
   "name": "sparkvenv",
   "language": "python",
   "display_name": "sparkVenv"
  },
  "language_info": {
   "codemirror_mode": {
    "name": "ipython",
    "version": 3
   },
   "file_extension": ".py",
   "mimetype": "text/x-python",
   "name": "python",
   "nbconvert_exporter": "python",
   "pygments_lexer": "ipython3",
   "version": "3.9.13"
  }
 },
 "nbformat": 4,
 "nbformat_minor": 5
}
