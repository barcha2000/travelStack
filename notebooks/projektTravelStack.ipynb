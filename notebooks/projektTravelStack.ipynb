{
 "cells": [
  {
   "cell_type": "code",
   "execution_count": 75,
   "id": "ab1734c4",
   "metadata": {
    "ExecuteTime": {
     "end_time": "2024-02-10T18:02:29.971388Z",
     "start_time": "2024-02-10T18:02:26.272356900Z"
    }
   },
   "outputs": [],
   "source": [
    "from pyspark.sql import SparkSession\n",
    "from pyspark.sql.functions import udf\n",
    "from pyspark.ml.classification import LogisticRegression, DecisionTreeClassifier, RandomForestClassifier, GBTClassifier,FMClassifier\n",
    "from pyspark.ml.feature import VectorAssembler, StandardScaler, ChiSqSelector, PCA, Tokenizer, StopWordsRemover, Word2Vec\n",
    "from pyspark.ml.evaluation import BinaryClassificationEvaluator, MulticlassClassificationEvaluator\n",
    "from pyspark.mllib.evaluation import MulticlassMetrics\n",
    "from pyspark.ml import Pipeline\n",
    "from pyspark.ml.tuning import ParamGridBuilder, CrossValidator\n",
    "\n",
    "import re\n",
    "import matplotlib.pyplot as plt\n",
    "import statistics"
   ]
  },
  {
   "cell_type": "code",
   "execution_count": 3,
   "id": "1f0df13f",
   "metadata": {
    "ExecuteTime": {
     "end_time": "2024-02-10T15:48:29.321332400Z",
     "start_time": "2024-02-10T15:48:29.296338300Z"
    }
   },
   "outputs": [],
   "source": [
    "import warnings\n",
    "warnings.filterwarnings('ignore')"
   ]
  },
  {
   "cell_type": "markdown",
   "id": "b7b810bd",
   "metadata": {},
   "source": [
    "# Projekt"
   ]
  },
  {
   "cell_type": "markdown",
   "source": [
    "### Anna Mieszkalska, Bartosz Chądzyński, Witold Barcz"
   ],
   "metadata": {
    "collapsed": false
   },
   "id": "47d6839d4c5096e0"
  },
  {
   "cell_type": "markdown",
   "id": "4d026e6c",
   "metadata": {},
   "source": [
    "W niniejszej analizie weźmiemy pod uwagę dane Travel z bazy danych StackOverflow. Ogólny zamysł tego zbioru danych polega na pytaniach oraz odpowiedziach użytkowników na temat podróżowania oraz turystyki wraz ze wszystkimi szczegółami.\n",
    "\n",
    "Skupimy się na trzech tabelach takich jak Posts, Users oraz Tags. Wybierzemy te zmienne, które będą pasowały do specyfiki projektu oraz przydadzą się w modelowaniu i analizie. Dodatkowo stworzymy własne zmienne w celu ułatwienia stworzenia klasyfikatorów. Naszym zadaniem będzie zbudowanie modelu przewidującego, czy na dane pytanie zostanie udzielona zaakceptowana odpowiedź. Poniżej umieszczamy opis zmiennych, które weźmiemy pod uwagę w analizie."
   ]
  },
  {
   "cell_type": "markdown",
   "id": "c79af79f137b3e94",
   "metadata": {},
   "source": [
    "### Tabela Posts (22 kolumn, 128164 wierszy)\n"
   ]
  },
  {
   "cell_type": "markdown",
   "id": "f73f2d9c",
   "metadata": {},
   "source": [
    "Zawiera głównie informacje na temat nieusuniętych pytań oraz odpowiedzi. W naszym przypadku będziemy brali pod uwagę tylko pytania oraz poniższe zmienne"
   ]
  },
  {
   "cell_type": "markdown",
   "id": "d362c3a5",
   "metadata": {},
   "source": [
    "- Id (identyfikator posta),\n",
    "- PostTypeId (1 = Pytanie, 2 = Odpowiedź),\n",
    "- AcceptedAnswerId (identyfikator zaakceptowanej odpowiedzi),\n",
    "- CreationDate (data utworzenia),\n",
    "- ClosedDate (data zamknięcia),\n",
    "- Score (różnica pomiędzy pozytywnymi, a negatywnymi reakcjami pod postem),\n",
    "- Body (treść posta),\n",
    "- OwnerUserId (numer identyfikacyjny twórcy),\n",
    "- Tags (tagi umieszczone w pytaniu),\n",
    "- CommentCount (ilość komentarzy),\n",
    "- Title (tytuł pytania),\n",
    "- ViewCount (liczba wyświetleń)."
   ]
  },
  {
   "cell_type": "markdown",
   "id": "a2ee4c89",
   "metadata": {},
   "source": [
    "### Tabela Users (12 kolumn, 105401 wierszy)\n",
    "Zawiera liczne informacje odnośnie użytkowników portalu StackOverflow. Zmienne, które wykorzystamy w projekcie:"
   ]
  },
  {
   "cell_type": "markdown",
   "id": "08531da3",
   "metadata": {},
   "source": [
    "- Id (identyfikator),\n",
    "- Location (lokalizacja użytkownika),\n",
    "- UpVotes (liczba pozytywnych reakcji jakie otrzymał użytkownik),\n",
    "- Views (liczba wyświetleń profilu użytkownika)."
   ]
  },
  {
   "cell_type": "markdown",
   "id": "158b3368",
   "metadata": {},
   "source": [
    "### Tabela Posts (5 kolumn, 1954 wierszy)\n",
    "Posłuży nam ona jedynie do znalezienia najpopularniejszych tagów wykorzystując zmienną TagName i zliczając ilość wystąpień każdego tagu w tabeli."
   ]
  },
  {
   "cell_type": "code",
   "execution_count": 4,
   "id": "f55d64a1",
   "metadata": {
    "ExecuteTime": {
     "end_time": "2024-02-10T15:49:08.421957600Z",
     "start_time": "2024-02-10T15:48:32.224970100Z"
    }
   },
   "outputs": [],
   "source": [
    "spark = SparkSession.builder.appName(\"Travel\").config(\"spark.jars.packages\",\"com.databricks:spark-xml_2.12:0.17.0\").getOrCreate()"
   ]
  },
  {
   "cell_type": "markdown",
   "id": "2567efa0",
   "metadata": {},
   "source": [
    "Tworzymy trzy ramki danych ze zbioru TravelStack."
   ]
  },
  {
   "cell_type": "code",
   "execution_count": 5,
   "id": "8da93eab",
   "metadata": {
    "ExecuteTime": {
     "end_time": "2024-02-10T15:49:53.730041700Z",
     "start_time": "2024-02-10T15:49:09.984734500Z"
    }
   },
   "outputs": [],
   "source": [
    "df_posts = spark.read.format(\"com.databricks.spark.xml\").option(\"rowTag\", \"row\").option(\"rootTag\", \"posts\").load(\"../data/posts.xml\")\n",
    "df_users = spark.read.format(\"com.databricks.spark.xml\").option(\"rowTag\", \"row\").option(\"rootTag\", \"users\").load(\"../data/users.xml\")\n",
    "df_tags = spark.read.format(\"com.databricks.spark.xml\").option(\"rowTag\", \"row\").option(\"rootTag\", \"tags\").load(\"../data/tags.xml\")"
   ]
  },
  {
   "cell_type": "markdown",
   "id": "35bd68b9",
   "metadata": {},
   "source": [
    "Poniżej przygotowujemy funkcje, które będą pomocne przy tworzeniu nowych kolumn w naszych danych:"
   ]
  },
  {
   "cell_type": "markdown",
   "id": "44057458",
   "metadata": {},
   "source": [
    "Funkcja if_NaN zwraca 1, gdy wartość wejściowa nie jest wartością brakującą (NaN), a 0 w przeciwnym przypadku. Użyjemy jej do określenia, czy pytanie posiada zaakceptowaną odpowiedź (zmienna AcceptedAnswerId)."
   ]
  },
  {
   "cell_type": "code",
   "execution_count": 6,
   "id": "79834f88",
   "metadata": {
    "ExecuteTime": {
     "end_time": "2024-02-10T15:49:54.126700900Z",
     "start_time": "2024-02-10T15:49:53.742044900Z"
    }
   },
   "outputs": [],
   "source": [
    "@udf(returnType='int')\n",
    "def if_NaN(x):\n",
    "    if x is not None:\n",
    "        return 1\n",
    "    else:\n",
    "        return 0"
   ]
  },
  {
   "cell_type": "markdown",
   "id": "5168938c",
   "metadata": {},
   "source": [
    "Funkcja slen przyjmuje argument typu string, oblicza długość ciągu znaków i zwraca tę wartość jako liczbę całkowitą. Użyjemy jej dla kolumn Body i Title, aby uczynić je bardziej przydatnymi w modelowaniu."
   ]
  },
  {
   "cell_type": "code",
   "execution_count": 7,
   "id": "fff602b2",
   "metadata": {
    "ExecuteTime": {
     "end_time": "2024-02-10T15:49:54.222701300Z",
     "start_time": "2024-02-10T15:49:54.184699500Z"
    }
   },
   "outputs": [],
   "source": [
    "@udf(returnType='int') \n",
    "def slen(s):\n",
    "    return len(s)"
   ]
  },
  {
   "cell_type": "markdown",
   "id": "b82fa25d",
   "metadata": {},
   "source": [
    "Funkcja if_Tag sprawdza, czy dany tag znajduje się w kolumnie Tags. Jeśli tag jest obecny w ciągu znaków, funkcja zwraca 1, w przeciwnym razie zwraca 0. Bierzemy pod uwagę pięć najpopularniejszych tagów."
   ]
  },
  {
   "cell_type": "code",
   "execution_count": 8,
   "id": "1def7f3d",
   "metadata": {
    "ExecuteTime": {
     "end_time": "2024-02-10T15:49:54.435700100Z",
     "start_time": "2024-02-10T15:49:54.214702200Z"
    }
   },
   "outputs": [],
   "source": [
    "@udf(returnType='int')\n",
    "def if_Tag1(x):\n",
    "    tag = \"<\" + popular_tags[0][0] + \">\"\n",
    "    if tag in x:\n",
    "        return 1\n",
    "    else:\n",
    "        return 0\n",
    "\n",
    "@udf(returnType='int')\n",
    "def if_Tag2(x):\n",
    "    tag = \"<\" + popular_tags[1][0] + \">\"\n",
    "    if tag in x:\n",
    "        return 1\n",
    "    else:\n",
    "        return 0\n",
    "\n",
    "@udf(returnType='int')\n",
    "def if_Tag3(x):\n",
    "    tag = \"<\" + popular_tags[2][0] + \">\"\n",
    "    if tag in x:\n",
    "        return 1\n",
    "    else:\n",
    "        return 0\n",
    "\n",
    "@udf(returnType='int')\n",
    "def if_Tag4(x):\n",
    "    tag = \"<\" + popular_tags[3][0] + \">\"\n",
    "    if tag in x:\n",
    "        return 1\n",
    "    else:\n",
    "        return 0\n",
    "\n",
    "@udf(returnType='int')\n",
    "def if_Tag5(x):\n",
    "    tag = \"<\" + popular_tags[4][0] + \">\"\n",
    "    if tag in x:\n",
    "        return 1\n",
    "    else:\n",
    "        return 0"
   ]
  },
  {
   "cell_type": "markdown",
   "id": "4433d19a",
   "metadata": {},
   "source": [
    "Korzystając z tabeli Tags, znajdujemy najpopularniejsze tagi i przypisujemy je do zmiennej popular_tags."
   ]
  },
  {
   "cell_type": "code",
   "execution_count": 9,
   "id": "ec24633b",
   "metadata": {
    "ExecuteTime": {
     "end_time": "2024-02-10T15:49:58.322348500Z",
     "start_time": "2024-02-10T15:49:54.444702800Z"
    }
   },
   "outputs": [],
   "source": [
    "popular_tags = df_tags.select(df_tags._TagName).sort(\"_Count\", ascending = False).limit(5).collect()"
   ]
  },
  {
   "cell_type": "markdown",
   "id": "7d8831cf6464e162",
   "metadata": {},
   "source": [
    "## Selekcja zmiennych i przygotowanie danych"
   ]
  },
  {
   "cell_type": "markdown",
   "id": "4d868a84",
   "metadata": {},
   "source": [
    "Zaktualizowana ramka danych \"Posts\" zawiera:\n",
    "- tylko pytania (PostTypeId = 1),\n",
    "- kolumnę logiczną AcceptedAnswerExist (1, jeśli istnieje, 0, jeśli brak danych) - będzie służyła jako kolumna etykiet w naszym modelu,\n",
    "- zawiera długość treści w kolumnach Body i Title - ilość znaków może wpływać na chęć odpowiedzi użytkowników na dane pytanie,\n",
    "- zawiera też treść pytań i ich tytuły. Na koniec spróbujemu użyć analizy semantycznej do stworzenia modelu klasyfikacyjnego\n",
    "- posiada kolumnę logiczną IfClosed (1, jeśli pytanie jest zamknięte, 0, jeśli jeszcze nie) - przewidujemy, że zamknięte pytania mają większą szansę na posiadanie zaakceptowanej odpowiedzi,\n",
    "- posiada nowe kolumny (typu bool), które określają, czy pytanie ma adekwatny tag - pytania oznaczone popularnymi tagami są prawdopodobnie chętniej oglądane przez użytkowników,\n",
    "- zmienną CommentCount - im większa ilość komentarzy, tym większe prawdopodobieństwo zaakceptowanej odpowiedzi,\n",
    "- Score oraz ViewCount - pytanie z dużym wynikiem oraz wyświetleniami ma duże prawdopodobieństwo uzyskania zaakceptowanej odpowiedzi."
   ]
  },
  {
   "cell_type": "code",
   "execution_count": 41,
   "id": "cc120fe8",
   "metadata": {
    "ExecuteTime": {
     "end_time": "2024-02-10T17:18:34.539400100Z",
     "start_time": "2024-02-10T17:18:34.407410900Z"
    }
   },
   "outputs": [],
   "source": [
    "df_posts_updated = df_posts.select(if_NaN(\"_AcceptedAnswerId\").alias(\"AcceptedAnswerExist\"), df_posts._Body, df_posts._Title, df_posts._AnswerCount,\n",
    "slen(\"_Body\").alias(\"BodyLen\"), df_posts._CommentCount, df_posts._CreationDate, if_NaN(\"_ClosedDate\").alias(\"IfClosed\"),\n",
    "df_posts._Id, df_posts._OwnerUserId, df_posts._PostTypeId, df_posts._Score, df_posts._Tags, slen(\"_Title\").alias(\"TitleLen\"),\n",
    "df_posts._ViewCount) \\\n",
    ".withColumn(\"TagVisas\",if_Tag1(\"_Tags\")) \\\n",
    ".withColumn(\"TagUsa\", if_Tag2(\"_Tags\")) \\\n",
    ".withColumn(\"TagUk\", if_Tag3(\"_Tags\")) \\\n",
    ".withColumn(\"TagAir-travel\", if_Tag4(\"_Tags\")) \\\n",
    ".withColumn(\"TagCustoms-and-immigration\", if_Tag5(\"_Tags\")) \\\n",
    ".filter(\"_PostTypeId == 1\") \\\n",
    ".filter(\"_OwnerUserId NOT LIKE 'NaN' \")"
   ]
  },
  {
   "cell_type": "markdown",
   "id": "b3ce1b73",
   "metadata": {},
   "source": [
    "Zaktualizowana ramka danych \"Users\" zawiera kolumny:\n",
    "- Id (na potrzeby łączenia tabel)\n",
    "- UpVotes oraz Views (przewidujemy, że im większa ilość wyświetleń i pozytywnych reakcji użytkownika, tym większa szansa, że uzyska zaakceptowaną odpowiedź)."
   ]
  },
  {
   "cell_type": "code",
   "execution_count": 11,
   "id": "2b8a1041",
   "metadata": {
    "ExecuteTime": {
     "end_time": "2024-02-10T15:49:58.921474800Z",
     "start_time": "2024-02-10T15:49:58.837476200Z"
    }
   },
   "outputs": [],
   "source": [
    "df_users_new = df_users.select(\"_Id\", \"_Location\", \"_UpVotes\", \"_Views\")"
   ]
  },
  {
   "cell_type": "markdown",
   "id": "baf91c18",
   "metadata": {},
   "source": [
    "Łączenie wcześniej stworzonych tabel \"Posts\" oraz \"Users\"."
   ]
  },
  {
   "cell_type": "code",
   "execution_count": 42,
   "id": "1e2dc5fd",
   "metadata": {
    "ExecuteTime": {
     "end_time": "2024-02-10T17:18:43.189750800Z",
     "start_time": "2024-02-10T17:18:43.121756300Z"
    }
   },
   "outputs": [],
   "source": [
    "df_main = df_posts_updated.join(df_users_new, df_posts_updated._OwnerUserId == df_users_new._Id, 'left_outer')"
   ]
  },
  {
   "cell_type": "markdown",
   "id": "93b354bc",
   "metadata": {},
   "source": [
    "Poniżej przedstawiamy gotową do analizy tabelę."
   ]
  },
  {
   "cell_type": "code",
   "execution_count": 12,
   "id": "290b2cdd",
   "metadata": {
    "ExecuteTime": {
     "end_time": "2024-02-10T09:47:58.776956800Z",
     "start_time": "2024-02-10T09:47:08.617529600Z"
    },
    "scrolled": true
   },
   "outputs": [
    {
     "data": {
      "text/html": [
       "<div>\n",
       "<style scoped>\n",
       "    .dataframe tbody tr th:only-of-type {\n",
       "        vertical-align: middle;\n",
       "    }\n",
       "\n",
       "    .dataframe tbody tr th {\n",
       "        vertical-align: top;\n",
       "    }\n",
       "\n",
       "    .dataframe thead th {\n",
       "        text-align: right;\n",
       "    }\n",
       "</style>\n",
       "<table border=\"1\" class=\"dataframe\">\n",
       "  <thead>\n",
       "    <tr style=\"text-align: right;\">\n",
       "      <th></th>\n",
       "      <th>AcceptedAnswerExist</th>\n",
       "      <th>_AnswerCount</th>\n",
       "      <th>BodyLen</th>\n",
       "      <th>_CommentCount</th>\n",
       "      <th>_CreationDate</th>\n",
       "      <th>IfClosed</th>\n",
       "      <th>_Id</th>\n",
       "      <th>_OwnerUserId</th>\n",
       "      <th>_PostTypeId</th>\n",
       "      <th>_Score</th>\n",
       "      <th>...</th>\n",
       "      <th>_ViewCount</th>\n",
       "      <th>TagVisas</th>\n",
       "      <th>TagUsa</th>\n",
       "      <th>TagUk</th>\n",
       "      <th>TagAir-travel</th>\n",
       "      <th>TagCustoms-and-immigration</th>\n",
       "      <th>_Id</th>\n",
       "      <th>_Location</th>\n",
       "      <th>_UpVotes</th>\n",
       "      <th>_Views</th>\n",
       "    </tr>\n",
       "  </thead>\n",
       "  <tbody>\n",
       "    <tr>\n",
       "      <th>0</th>\n",
       "      <td>1</td>\n",
       "      <td>3</td>\n",
       "      <td>504</td>\n",
       "      <td>3</td>\n",
       "      <td>2011-06-21 22:30:38.687</td>\n",
       "      <td>0</td>\n",
       "      <td>8</td>\n",
       "      <td>26</td>\n",
       "      <td>1</td>\n",
       "      <td>15</td>\n",
       "      <td>...</td>\n",
       "      <td>12989</td>\n",
       "      <td>0</td>\n",
       "      <td>0</td>\n",
       "      <td>0</td>\n",
       "      <td>0</td>\n",
       "      <td>0</td>\n",
       "      <td>26</td>\n",
       "      <td>Oxford, United Kingdom</td>\n",
       "      <td>19507</td>\n",
       "      <td>7234</td>\n",
       "    </tr>\n",
       "    <tr>\n",
       "      <th>1</th>\n",
       "      <td>1</td>\n",
       "      <td>2</td>\n",
       "      <td>1034</td>\n",
       "      <td>0</td>\n",
       "      <td>2011-07-03 13:21:51.543</td>\n",
       "      <td>0</td>\n",
       "      <td>780</td>\n",
       "      <td>26</td>\n",
       "      <td>1</td>\n",
       "      <td>26</td>\n",
       "      <td>...</td>\n",
       "      <td>6276</td>\n",
       "      <td>0</td>\n",
       "      <td>0</td>\n",
       "      <td>1</td>\n",
       "      <td>0</td>\n",
       "      <td>0</td>\n",
       "      <td>26</td>\n",
       "      <td>Oxford, United Kingdom</td>\n",
       "      <td>19507</td>\n",
       "      <td>7234</td>\n",
       "    </tr>\n",
       "    <tr>\n",
       "      <th>2</th>\n",
       "      <td>0</td>\n",
       "      <td>4</td>\n",
       "      <td>1399</td>\n",
       "      <td>4</td>\n",
       "      <td>2011-07-05 23:19:11.723</td>\n",
       "      <td>0</td>\n",
       "      <td>823</td>\n",
       "      <td>26</td>\n",
       "      <td>1</td>\n",
       "      <td>10</td>\n",
       "      <td>...</td>\n",
       "      <td>1742</td>\n",
       "      <td>0</td>\n",
       "      <td>0</td>\n",
       "      <td>0</td>\n",
       "      <td>0</td>\n",
       "      <td>0</td>\n",
       "      <td>26</td>\n",
       "      <td>Oxford, United Kingdom</td>\n",
       "      <td>19507</td>\n",
       "      <td>7234</td>\n",
       "    </tr>\n",
       "    <tr>\n",
       "      <th>3</th>\n",
       "      <td>1</td>\n",
       "      <td>5</td>\n",
       "      <td>908</td>\n",
       "      <td>0</td>\n",
       "      <td>2011-07-09 22:26:20.707</td>\n",
       "      <td>0</td>\n",
       "      <td>886</td>\n",
       "      <td>26</td>\n",
       "      <td>1</td>\n",
       "      <td>17</td>\n",
       "      <td>...</td>\n",
       "      <td>10271</td>\n",
       "      <td>0</td>\n",
       "      <td>0</td>\n",
       "      <td>0</td>\n",
       "      <td>0</td>\n",
       "      <td>0</td>\n",
       "      <td>26</td>\n",
       "      <td>Oxford, United Kingdom</td>\n",
       "      <td>19507</td>\n",
       "      <td>7234</td>\n",
       "    </tr>\n",
       "    <tr>\n",
       "      <th>4</th>\n",
       "      <td>1</td>\n",
       "      <td>3</td>\n",
       "      <td>1961</td>\n",
       "      <td>1</td>\n",
       "      <td>2011-07-10 21:07:46.663</td>\n",
       "      <td>0</td>\n",
       "      <td>910</td>\n",
       "      <td>26</td>\n",
       "      <td>1</td>\n",
       "      <td>6</td>\n",
       "      <td>...</td>\n",
       "      <td>1857</td>\n",
       "      <td>0</td>\n",
       "      <td>0</td>\n",
       "      <td>0</td>\n",
       "      <td>0</td>\n",
       "      <td>0</td>\n",
       "      <td>26</td>\n",
       "      <td>Oxford, United Kingdom</td>\n",
       "      <td>19507</td>\n",
       "      <td>7234</td>\n",
       "    </tr>\n",
       "    <tr>\n",
       "      <th>...</th>\n",
       "      <td>...</td>\n",
       "      <td>...</td>\n",
       "      <td>...</td>\n",
       "      <td>...</td>\n",
       "      <td>...</td>\n",
       "      <td>...</td>\n",
       "      <td>...</td>\n",
       "      <td>...</td>\n",
       "      <td>...</td>\n",
       "      <td>...</td>\n",
       "      <td>...</td>\n",
       "      <td>...</td>\n",
       "      <td>...</td>\n",
       "      <td>...</td>\n",
       "      <td>...</td>\n",
       "      <td>...</td>\n",
       "      <td>...</td>\n",
       "      <td>...</td>\n",
       "      <td>...</td>\n",
       "      <td>...</td>\n",
       "      <td>...</td>\n",
       "    </tr>\n",
       "    <tr>\n",
       "      <th>46740</th>\n",
       "      <td>0</td>\n",
       "      <td>0</td>\n",
       "      <td>206</td>\n",
       "      <td>4</td>\n",
       "      <td>2023-10-05 06:18:47.033</td>\n",
       "      <td>0</td>\n",
       "      <td>183941</td>\n",
       "      <td>139575</td>\n",
       "      <td>1</td>\n",
       "      <td>4</td>\n",
       "      <td>...</td>\n",
       "      <td>133</td>\n",
       "      <td>0</td>\n",
       "      <td>0</td>\n",
       "      <td>0</td>\n",
       "      <td>0</td>\n",
       "      <td>0</td>\n",
       "      <td>139575</td>\n",
       "      <td>None</td>\n",
       "      <td>0</td>\n",
       "      <td>0</td>\n",
       "    </tr>\n",
       "    <tr>\n",
       "      <th>46741</th>\n",
       "      <td>0</td>\n",
       "      <td>0</td>\n",
       "      <td>634</td>\n",
       "      <td>0</td>\n",
       "      <td>2023-11-16 14:36:11.810</td>\n",
       "      <td>1</td>\n",
       "      <td>184610</td>\n",
       "      <td>140604</td>\n",
       "      <td>1</td>\n",
       "      <td>2</td>\n",
       "      <td>...</td>\n",
       "      <td>48</td>\n",
       "      <td>1</td>\n",
       "      <td>0</td>\n",
       "      <td>0</td>\n",
       "      <td>0</td>\n",
       "      <td>0</td>\n",
       "      <td>140604</td>\n",
       "      <td>None</td>\n",
       "      <td>0</td>\n",
       "      <td>0</td>\n",
       "    </tr>\n",
       "    <tr>\n",
       "      <th>46742</th>\n",
       "      <td>1</td>\n",
       "      <td>1</td>\n",
       "      <td>516</td>\n",
       "      <td>7</td>\n",
       "      <td>2023-05-04 12:45:11.337</td>\n",
       "      <td>0</td>\n",
       "      <td>180981</td>\n",
       "      <td>135572</td>\n",
       "      <td>1</td>\n",
       "      <td>0</td>\n",
       "      <td>...</td>\n",
       "      <td>161</td>\n",
       "      <td>0</td>\n",
       "      <td>0</td>\n",
       "      <td>0</td>\n",
       "      <td>0</td>\n",
       "      <td>0</td>\n",
       "      <td>135572</td>\n",
       "      <td>None</td>\n",
       "      <td>0</td>\n",
       "      <td>2</td>\n",
       "    </tr>\n",
       "    <tr>\n",
       "      <th>46743</th>\n",
       "      <td>0</td>\n",
       "      <td>0</td>\n",
       "      <td>670</td>\n",
       "      <td>7</td>\n",
       "      <td>2023-06-18 12:15:38.257</td>\n",
       "      <td>0</td>\n",
       "      <td>181833</td>\n",
       "      <td>136645</td>\n",
       "      <td>1</td>\n",
       "      <td>1</td>\n",
       "      <td>...</td>\n",
       "      <td>159</td>\n",
       "      <td>0</td>\n",
       "      <td>0</td>\n",
       "      <td>0</td>\n",
       "      <td>0</td>\n",
       "      <td>1</td>\n",
       "      <td>136645</td>\n",
       "      <td>None</td>\n",
       "      <td>0</td>\n",
       "      <td>0</td>\n",
       "    </tr>\n",
       "    <tr>\n",
       "      <th>46744</th>\n",
       "      <td>0</td>\n",
       "      <td>2</td>\n",
       "      <td>235</td>\n",
       "      <td>4</td>\n",
       "      <td>2023-07-14 15:34:07.200</td>\n",
       "      <td>0</td>\n",
       "      <td>182368</td>\n",
       "      <td>137306</td>\n",
       "      <td>1</td>\n",
       "      <td>3</td>\n",
       "      <td>...</td>\n",
       "      <td>1191</td>\n",
       "      <td>0</td>\n",
       "      <td>0</td>\n",
       "      <td>1</td>\n",
       "      <td>1</td>\n",
       "      <td>0</td>\n",
       "      <td>137306</td>\n",
       "      <td>None</td>\n",
       "      <td>0</td>\n",
       "      <td>4</td>\n",
       "    </tr>\n",
       "  </tbody>\n",
       "</table>\n",
       "<p>46745 rows × 22 columns</p>\n",
       "</div>"
      ],
      "text/plain": [
       "       AcceptedAnswerExist  _AnswerCount  BodyLen  _CommentCount  \\\n",
       "0                        1             3      504              3   \n",
       "1                        1             2     1034              0   \n",
       "2                        0             4     1399              4   \n",
       "3                        1             5      908              0   \n",
       "4                        1             3     1961              1   \n",
       "...                    ...           ...      ...            ...   \n",
       "46740                    0             0      206              4   \n",
       "46741                    0             0      634              0   \n",
       "46742                    1             1      516              7   \n",
       "46743                    0             0      670              7   \n",
       "46744                    0             2      235              4   \n",
       "\n",
       "                _CreationDate  IfClosed     _Id  _OwnerUserId  _PostTypeId  \\\n",
       "0     2011-06-21 22:30:38.687         0       8            26            1   \n",
       "1     2011-07-03 13:21:51.543         0     780            26            1   \n",
       "2     2011-07-05 23:19:11.723         0     823            26            1   \n",
       "3     2011-07-09 22:26:20.707         0     886            26            1   \n",
       "4     2011-07-10 21:07:46.663         0     910            26            1   \n",
       "...                       ...       ...     ...           ...          ...   \n",
       "46740 2023-10-05 06:18:47.033         0  183941        139575            1   \n",
       "46741 2023-11-16 14:36:11.810         1  184610        140604            1   \n",
       "46742 2023-05-04 12:45:11.337         0  180981        135572            1   \n",
       "46743 2023-06-18 12:15:38.257         0  181833        136645            1   \n",
       "46744 2023-07-14 15:34:07.200         0  182368        137306            1   \n",
       "\n",
       "       _Score  ... _ViewCount  TagVisas  TagUsa  TagUk  TagAir-travel  \\\n",
       "0          15  ...      12989         0       0      0              0   \n",
       "1          26  ...       6276         0       0      1              0   \n",
       "2          10  ...       1742         0       0      0              0   \n",
       "3          17  ...      10271         0       0      0              0   \n",
       "4           6  ...       1857         0       0      0              0   \n",
       "...       ...  ...        ...       ...     ...    ...            ...   \n",
       "46740       4  ...        133         0       0      0              0   \n",
       "46741       2  ...         48         1       0      0              0   \n",
       "46742       0  ...        161         0       0      0              0   \n",
       "46743       1  ...        159         0       0      0              0   \n",
       "46744       3  ...       1191         0       0      1              1   \n",
       "\n",
       "       TagCustoms-and-immigration     _Id               _Location  _UpVotes  \\\n",
       "0                               0      26  Oxford, United Kingdom     19507   \n",
       "1                               0      26  Oxford, United Kingdom     19507   \n",
       "2                               0      26  Oxford, United Kingdom     19507   \n",
       "3                               0      26  Oxford, United Kingdom     19507   \n",
       "4                               0      26  Oxford, United Kingdom     19507   \n",
       "...                           ...     ...                     ...       ...   \n",
       "46740                           0  139575                    None         0   \n",
       "46741                           0  140604                    None         0   \n",
       "46742                           0  135572                    None         0   \n",
       "46743                           1  136645                    None         0   \n",
       "46744                           0  137306                    None         0   \n",
       "\n",
       "      _Views  \n",
       "0       7234  \n",
       "1       7234  \n",
       "2       7234  \n",
       "3       7234  \n",
       "4       7234  \n",
       "...      ...  \n",
       "46740      0  \n",
       "46741      0  \n",
       "46742      2  \n",
       "46743      0  \n",
       "46744      4  \n",
       "\n",
       "[46745 rows x 22 columns]"
      ]
     },
     "execution_count": 12,
     "metadata": {},
     "output_type": "execute_result"
    }
   ],
   "source": [
    "df_main.toPandas()"
   ]
  },
  {
   "cell_type": "markdown",
   "id": "f8d4c856f9ba2aaa",
   "metadata": {},
   "source": [
    "W większości modeli będziemy korzystać z dwóch podzbiorów powyższej tabeli. Poniżej ich definicje. W pierwszym wyrzucamy zmienne, które nie mają sensu przy budowie modelu klasyfikacyjnego, takie jak np. ID użytkownika. "
   ]
  },
  {
   "cell_type": "code",
   "execution_count": null,
   "id": "f121ea3c",
   "metadata": {
    "ExecuteTime": {
     "start_time": "2024-02-10T18:01:37.362494200Z"
    }
   },
   "outputs": [],
   "source": [
    "df_classification = df_main.drop(\"_Body\", \"_Title\",\"_Id\", \"_CreationDate\",\"_OwnerUserId\",\"_PostTypeId\",\"_Tags\",\"_Location\")"
   ]
  },
  {
   "cell_type": "markdown",
   "id": "358bd704e500cc3f",
   "metadata": {},
   "source": [
    "Funkcje, które służą do usunięcia znaków specjalnych z treści pytań oraz wyekstrahowaniu samej treści z tagów HTML. "
   ]
  },
  {
   "cell_type": "code",
   "execution_count": 63,
   "id": "78522e8d7dd7bd55",
   "metadata": {
    "ExecuteTime": {
     "end_time": "2024-02-10T17:45:20.346721300Z",
     "start_time": "2024-02-10T17:45:20.275621500Z"
    }
   },
   "outputs": [],
   "source": [
    "@udf\n",
    "def removeSpecialCharacters(x):\n",
    "    cleaned_string = re.sub(r'[^a-zA-Z0-9\\s]', ' ', x)\n",
    "    return cleaned_string\n",
    "\n",
    "@udf\n",
    "def removeTags(x):\n",
    "    return x[3:-4]"
   ]
  },
  {
   "cell_type": "code",
   "execution_count": 90,
   "id": "f453b5023f5ba9e2",
   "metadata": {
    "ExecuteTime": {
     "end_time": "2024-02-10T18:09:43.608351700Z",
     "start_time": "2024-02-10T18:09:43.552352300Z"
    }
   },
   "outputs": [],
   "source": [
    "df_semantic = df_main.select(\"_Id\", \"AcceptedAnswerExist\",removeTags(removeSpecialCharacters(\"_Body\")).alias(\"Body\"), removeSpecialCharacters(\"_Title\").alias(\"Title\"))"
   ]
  },
  {
   "cell_type": "code",
   "execution_count": null,
   "id": "e027364b7b8a0942",
   "metadata": {},
   "outputs": [],
   "source": [
    "df_all = df_main.select(\"_Id\", \"AcceptedAnswerExist\",removeTags(removeSpecialCharacters(\"_Body\")).alias(\"Body\"), removeSpecialCharacters(\"_Title\").alias(\"Title\"), \"_AnswerCount\", \"BodyLen\", \"_CommentCount\", \"IfClosed\", \"_Score\", \"_ViewCount\", \"TagAir-travel\", \"TagCustoms-and-immigration\", \"TagUk\", \"TagUsa\", \"TagVisas\", \"_UpVotes\", '_Views')"
   ]
  },
  {
   "cell_type": "markdown",
   "id": "bf941ed78431c20f",
   "metadata": {},
   "source": [
    "## Wstępna analiza zmiennych"
   ]
  },
  {
   "cell_type": "markdown",
   "id": "cbb6c5411a1d30f4",
   "metadata": {},
   "source": [
    "W tym rozdziale zajmiemy się analizą najbardziej interesujących statystycznie zmiennych poprzez zastosowanie wskaźników sumarycznych (średnia, mediana i odchylenie standardowe) oraz narysujemy histogramy."
   ]
  },
  {
   "cell_type": "code",
   "execution_count": 76,
   "id": "5d56afccba0b20bf",
   "metadata": {
    "ExecuteTime": {
     "end_time": "2024-02-10T18:03:18.291002700Z",
     "start_time": "2024-02-10T18:02:35.735183900Z"
    }
   },
   "outputs": [
    {
     "data": {
      "image/png": "[encoded data removed]",
      "text/plain": [
       "<Figure size 640x480 with 1 Axes>"
      ]
     },
     "metadata": {},
     "output_type": "display_data"
    }
   ],
   "source": [
    "column_data = df_main.select(\"BodyLen\").rdd.flatMap(lambda x: x).collect()\n",
    "\n",
    "plt.hist(column_data, bins=50, color='skyblue', edgecolor='black')\n",
    "\n",
    "plt.title('Histogram dla kolumny BodyLen')\n",
    "\n",
    "plt.show()"
   ]
  },
  {
   "cell_type": "code",
   "execution_count": 77,
   "id": "fe1060b33aa3cbed",
   "metadata": {
    "ExecuteTime": {
     "end_time": "2024-02-10T18:03:18.575049600Z",
     "start_time": "2024-02-10T18:03:18.219001300Z"
    }
   },
   "outputs": [],
   "source": [
    "srednia = statistics.mean(column_data)\n",
    "mediana = statistics.median(column_data)\n",
    "odchylenie_standardowe = statistics.stdev(column_data)"
   ]
  },
  {
   "cell_type": "code",
   "execution_count": 85,
   "id": "2d08d3fd4a9ea6fa",
   "metadata": {
    "ExecuteTime": {
     "end_time": "2024-02-10T18:04:03.819956500Z",
     "start_time": "2024-02-10T18:04:03.696949800Z"
    }
   },
   "outputs": [
    {
     "name": "stdout",
     "output_type": "stream",
     "text": [
      "Średnia długość treści pytania wynosi: 641.80\n",
      "Mediana wynosi: 485.00\n",
      "Odchylenie standardowe wynosi: 575.55\n"
     ]
    }
   ],
   "source": [
    "print(\"Średnia długość treści pytania wynosi: {:.2f}\".format(srednia))\n",
    "print(\"Mediana wynosi: {:.2f}\".format(mediana))\n",
    "print(\"Odchylenie standardowe wynosi: {:.2f}\".format(odchylenie_standardowe))"
   ]
  },
  {
   "cell_type": "code",
   "execution_count": 79,
   "id": "1acf485e4b887bca",
   "metadata": {
    "ExecuteTime": {
     "end_time": "2024-02-10T18:03:43.064045100Z",
     "start_time": "2024-02-10T18:03:18.592051800Z"
    }
   },
   "outputs": [
    {
     "data": {
      "image/png": "[encoded data removed]",
      "text/plain": [
       "<Figure size 640x480 with 1 Axes>"
      ]
     },
     "metadata": {},
     "output_type": "display_data"
    }
   ],
   "source": [
    "column_data2 = df_main.select(\"TitleLen\").rdd.flatMap(lambda x: x).collect()\n",
    "\n",
    "plt.hist(column_data2, bins=50, color='skyblue', edgecolor='black')\n",
    "\n",
    "plt.title('Histogram dla kolumny TitleLen')\n",
    "\n",
    "plt.show()"
   ]
  },
  {
   "cell_type": "code",
   "execution_count": 80,
   "id": "785ee12ad378ffb4",
   "metadata": {
    "ExecuteTime": {
     "end_time": "2024-02-10T18:03:43.295045900Z",
     "start_time": "2024-02-10T18:03:43.064045100Z"
    }
   },
   "outputs": [],
   "source": [
    "srednia2 = statistics.mean(column_data2)\n",
    "mediana2 = statistics.median(column_data2)\n",
    "odchylenie_standardowe2 = statistics.stdev(column_data2)"
   ]
  },
  {
   "cell_type": "code",
   "execution_count": 86,
   "id": "79cae3d4cdb452c7",
   "metadata": {
    "ExecuteTime": {
     "end_time": "2024-02-10T18:04:23.457620800Z",
     "start_time": "2024-02-10T18:04:23.228620600Z"
    }
   },
   "outputs": [
    {
     "name": "stdout",
     "output_type": "stream",
     "text": [
      "Średnia długość tytułu posta wynosi: 61.68\n",
      "Mediana wynosi: 59.00\n",
      "Odchylenie standardowe wynosi: 24.60\n"
     ]
    }
   ],
   "source": [
    "print(\"Średnia długość tytułu posta wynosi: {:.2f}\".format(srednia2))\n",
    "print(\"Mediana wynosi: {:.2f}\".format(mediana2))\n",
    "print(\"Odchylenie standardowe wynosi: {:.2f}\".format(odchylenie_standardowe2))"
   ]
  },
  {
   "cell_type": "code",
   "execution_count": 82,
   "id": "7daee9b946c584e",
   "metadata": {
    "ExecuteTime": {
     "end_time": "2024-02-10T18:03:59.037042Z",
     "start_time": "2024-02-10T18:03:43.408046200Z"
    }
   },
   "outputs": [
    {
     "data": {
      "image/png": "[encoded data removed]",
      "text/plain": [
       "<Figure size 640x480 with 1 Axes>"
      ]
     },
     "metadata": {},
     "output_type": "display_data"
    }
   ],
   "source": [
    "column_data3 = df_main.select(\"_Score\").rdd.flatMap(lambda x: x).collect()\n",
    "\n",
    "plt.hist(column_data3, bins=50, color='skyblue', edgecolor='black')\n",
    "\n",
    "plt.title('Histogram dla kolumny Score')\n",
    "#plt.xlabel('Wartość')\n",
    "#plt.ylabel('Częstość')\n",
    "\n",
    "plt.show()"
   ]
  },
  {
   "cell_type": "code",
   "execution_count": 83,
   "id": "6c908260439f1656",
   "metadata": {
    "ExecuteTime": {
     "end_time": "2024-02-10T18:03:59.312043500Z",
     "start_time": "2024-02-10T18:03:59.029049Z"
    }
   },
   "outputs": [],
   "source": [
    "srednia3 = statistics.mean(column_data3)\n",
    "mediana3 = statistics.median(column_data3)\n",
    "odchylenie_standardowe3 = statistics.stdev(column_data3)"
   ]
  },
  {
   "cell_type": "code",
   "execution_count": 87,
   "id": "28ec3917a7e51b3e",
   "metadata": {
    "ExecuteTime": {
     "end_time": "2024-02-10T18:04:58.342135600Z",
     "start_time": "2024-02-10T18:04:58.230144Z"
    }
   },
   "outputs": [
    {
     "name": "stdout",
     "output_type": "stream",
     "text": [
      "Średnia różnica pomiędzy pozytywnymi i negatywnymi reakcjami wynosi: 5.83\n",
      "Mediana wynosi: 3.00\n",
      "Odchylenie standardowe wynosi: 9.38\n"
     ]
    }
   ],
   "source": [
    "print(\"Średnia różnica pomiędzy pozytywnymi i negatywnymi reakcjami wynosi: {:.2f}\".format(srednia3))\n",
    "print(\"Mediana wynosi: {:.2f}\".format(mediana3))\n",
    "print(\"Odchylenie standardowe wynosi: {:.2f}\".format(odchylenie_standardowe3))"
   ]
  },
  {
   "cell_type": "markdown",
   "id": "e28f5fe364266b21",
   "metadata": {},
   "source": [
    "## Budowa modelu"
   ]
  },
  {
   "cell_type": "markdown",
   "id": "9580afab1fb62233",
   "metadata": {},
   "source": [
    "Poniżej przedstawiamy funkcję, która buduje i ewaluuje model w oparciu o wybrany typ klasyfikatora. Zbiór treningowy dzielimy na 5 części i wykonujemy na nim walidację krzyżową. Ostateczne parametry modelu są wybierane na podstawie statystyki skuteczności predykcji. Będziemy uwzględniać:\n",
    "- Skuteczność predykcji,\n",
    "- AUC, czyli pole pod wykresem krzywej ROC. Krzywa ta nas informuje na temat zdolności do rozróżniania między klasami, przy różnych progach odcięcia. Oczywiście chcemy, aby AUC było jak najbliższe 1,\n",
    "- Bookmaker Informedness, czyli suma True positive rate i True negative rate od której odejmujemy 1. To jest przede wszystkim metoda nieczuła na problem niezbalansowania klas, co występuje w naszym przypadku."
   ]
  },
  {
   "cell_type": "code",
   "execution_count": 27,
   "id": "a4c4bdadee8e630b",
   "metadata": {
    "ExecuteTime": {
     "end_time": "2024-02-10T16:31:55.559655700Z",
     "start_time": "2024-02-10T16:31:55.503660400Z"
    }
   },
   "outputs": [],
   "source": [
    "def buildAndEvaluateModel(train, test, classifierType, *args, **kwargs):\n",
    "    classifier = classifierType(featuresCol=\"final_features\", labelCol=\"AcceptedAnswerExist\", *args, **kwargs)\n",
    "    pipeline = Pipeline(stages=[classifier])\n",
    "    \n",
    "    binaryEvaluator = BinaryClassificationEvaluator(labelCol=\"AcceptedAnswerExist\", rawPredictionCol=\"rawPrediction\",\n",
    "                                                    metricName=\"areaUnderROC\")\n",
    "    multiEvaluator = MulticlassClassificationEvaluator(labelCol=\"AcceptedAnswerExist\", predictionCol=\"prediction\",\n",
    "                                                       metricName=\"accuracy\")\n",
    "    paramGrid = ParamGridBuilder().build() \n",
    "    crossval = CrossValidator(estimator=pipeline,\n",
    "                              estimatorParamMaps=paramGrid,\n",
    "                              evaluator=multiEvaluator,  \n",
    "                              numFolds=5) \n",
    "\n",
    "    cvModel = crossval.fit(train)\n",
    "    predictions = cvModel.transform(test)\n",
    "    \n",
    "    auc = binaryEvaluator.evaluate(predictions)\n",
    "    print(\"AUC:\", auc)\n",
    "    accuracy = multiEvaluator.evaluate(predictions)\n",
    "    print(\"Skuteczność:\", accuracy)\n",
    "    predictionAndLabels = predictions.select(\"prediction\", \"AcceptedAnswerExist\").rdd.map(\n",
    "        lambda row: (float(row[0]), float(row[1])))\n",
    "    metrics = MulticlassMetrics(predictionAndLabels)\n",
    "    confusionMatrix = metrics.confusionMatrix().toArray()\n",
    "    print(\"Macierz pomyłek:\\n\", confusionMatrix)\n",
    "    \n",
    "    TP = confusionMatrix[0, 0]\n",
    "    FN = confusionMatrix[0, 1]\n",
    "    FP = confusionMatrix[1, 0]\n",
    "    TN = confusionMatrix[1, 1]\n",
    "    \n",
    "    TPR = TP / (TP + FN) if (TP + FN) != 0 else 0\n",
    "    TNR = TN / (TN + FP) if (TN + FP) != 0 else 0\n",
    "    \n",
    "    informedness = TPR + TNR - 1\n",
    "    print(\"Informedness:\\n\", informedness)\n",
    "\n",
    "    return {\"accuracy\": accuracy, \"AUC\": auc, \"confusionMatrix\": confusionMatrix, \"Informedness\": informedness}"
   ]
  },
  {
   "cell_type": "code",
   "execution_count": 66,
   "id": "2eeb7f037d578cf",
   "metadata": {
    "ExecuteTime": {
     "end_time": "2024-02-10T17:45:52.550769100Z",
     "start_time": "2024-02-10T17:45:52.509773200Z"
    }
   },
   "outputs": [],
   "source": [
    "def simulations(df, assembling_vectors, model_types, *args, **kwargs):\n",
    "    results = {}\n",
    "    for model in model_types:\n",
    "        train, test =  assembling_vectors(df)\n",
    "        name = model.__name__\n",
    "        print(\"\\n\\nWyniki dla \"+ name)\n",
    "        try:\n",
    "            results[name] = buildAndEvaluateModel(train, test, model,  *args, **kwargs)\n",
    "        except Exception as e:\n",
    "            print(f\"Błąd: {e}\")\n",
    "    return results"
   ]
  },
  {
   "cell_type": "markdown",
   "id": "7b91493a97994180",
   "metadata": {},
   "source": [
    "Na początek przeprowadźmy symulacje dla 5 wybranych klasyfikatorów. Będzie to regresja logistyczna, klasyfikator Factorization Machines, drzewo decyzyjne, oraz oparte na drzewach lasy losowe i Gradient Boost Trees. Przyjmujemy parametry domyślne i wszystkie kolumny naszego zbioru danych. Przeprowadzamy normalizacje na danych przed budowaniem modeli."
   ]
  },
  {
   "cell_type": "code",
   "execution_count": 24,
   "id": "906e64e8ab387d72",
   "metadata": {
    "ExecuteTime": {
     "end_time": "2024-02-10T16:31:19.624631500Z",
     "start_time": "2024-02-10T16:31:19.530634600Z"
    }
   },
   "outputs": [],
   "source": [
    "def normalization(df):\n",
    "    columns_to_normalize = [\"_AnswerCount\", \"_CommentCount\", \"BodyLen\", \"_Score\", \"TitleLen\", \"_ViewCount\", \"_UpVotes\",\n",
    "                            \"_Views\"]\n",
    "    num_assembler = VectorAssembler(inputCols=columns_to_normalize, outputCol=\"numeric_features\")\n",
    "    scaler = StandardScaler(inputCol=\"numeric_features\", outputCol=\"scaled_features\")\n",
    "    \n",
    "    \n",
    "    final_columns = [\"scaled_features\", \"TagVisas\", \"TagUsa\", \"TagUk\", \"TagAir-travel\", \"TagCustoms-and-immigration\",\n",
    "                     \"IfClosed\"]\n",
    "    final_assembler = VectorAssembler(inputCols=final_columns, outputCol=\"final_features\")\n",
    "    \n",
    "    pipeline = Pipeline(stages=[num_assembler, scaler, final_assembler])\n",
    "    transformedData = pipeline.fit(df).transform(df)\n",
    "    train, test = transformedData.randomSplit([0.8, 0.2])\n",
    "    \n",
    "    return train, test"
   ]
  },
  {
   "cell_type": "code",
   "execution_count": 17,
   "id": "a8869a1253f9c0c3",
   "metadata": {
    "ExecuteTime": {
     "end_time": "2024-02-10T10:21:33.621288100Z",
     "start_time": "2024-02-10T09:47:59.063676900Z"
    }
   },
   "outputs": [
    {
     "name": "stdout",
     "output_type": "stream",
     "text": [
      "\n",
      "\n",
      "Wyniki dla LogisticRegression\n",
      "AUC: 0.7425692459126626\n",
      "Skuteczność: 0.6894776359540921\n",
      "Macierz pomyłek:\n",
      " [[4925.  709.]\n",
      " [2186. 1503.]]\n",
      "Informedness:\n",
      " 0.28158439163222404\n",
      "\n",
      "\n",
      "Wyniki dla FMClassifier\n",
      "AUC: 0.7567089909239982\n",
      "Skuteczność: 0.6951625013407702\n",
      "Macierz pomyłek:\n",
      " [[4761.  873.]\n",
      " [1969. 1720.]]\n",
      "Informedness:\n",
      " 0.3112989398583301\n",
      "\n",
      "\n",
      "Wyniki dla DecisionTreeClassifier\n",
      "AUC: 0.7521847036248283\n",
      "Skuteczność: 0.7948085380242411\n",
      "Macierz pomyłek:\n",
      " [[4297. 1337.]\n",
      " [ 576. 3113.]]\n",
      "Informedness:\n",
      " 0.6065509305168355\n",
      "\n",
      "\n",
      "Wyniki dla RandomForestClassifier\n",
      "AUC: 0.8483989906382017\n",
      "Skuteczność: 0.7937359219135471\n",
      "Macierz pomyłek:\n",
      " [[4277. 1357.]\n",
      " [ 566. 3123.]]\n",
      "Informedness:\n",
      " 0.6057118164865314\n",
      "\n",
      "\n",
      "Wyniki dla GBTClassifier\n",
      "AUC: 0.8624501571558576\n",
      "Skuteczność: 0.7974900783009761\n",
      "Macierz pomyłek:\n",
      " [[4341. 1293.]\n",
      " [ 595. 3094.]]\n",
      "Informedness:\n",
      " 0.6092102099007182\n"
     ]
    }
   ],
   "source": [
    "model_types = [LogisticRegression, FMClassifier, DecisionTreeClassifier, RandomForestClassifier, GBTClassifier]\n",
    "results_of_simulations = simulations(df_classification, normalization, model_types)"
   ]
  },
  {
   "cell_type": "markdown",
   "id": "35f60cf02dd8c8db",
   "metadata": {},
   "source": [
    "Teraz przed zbudowaniem modeli, wybierzemy podzbiór zmiennych typu binarnego za pomocą testów chi-kwadrat wykonanych ze zmienną objaśnianą. Wybierzemy 3 najistotniejsze cechy."
   ]
  },
  {
   "cell_type": "code",
   "execution_count": 29,
   "id": "a17e35c1087b740f",
   "metadata": {
    "ExecuteTime": {
     "end_time": "2024-02-10T16:31:59.754742800Z",
     "start_time": "2024-02-10T16:31:59.727747400Z"
    }
   },
   "outputs": [],
   "source": [
    "def selecting_columns(df):\n",
    "    columns_to_normalize = [\"_AnswerCount\", \"_CommentCount\", \"BodyLen\", \"_Score\", \"TitleLen\", \"_ViewCount\", \"_UpVotes\",\n",
    "                            \"_Views\"]\n",
    "    num_assembler = VectorAssembler(inputCols=columns_to_normalize, outputCol=\"numeric_features\")\n",
    "    scaler = StandardScaler(inputCol=\"numeric_features\", outputCol=\"scaled_features\")\n",
    "    \n",
    "    \n",
    "    binaryFeatures = ['IfClosed', 'TagVisas', 'TagUsa', 'TagUk', 'TagAir-travel', 'TagCustoms-and-immigration']\n",
    "    binaryFeaturesDF = df_classification.select(*binaryFeatures, \"AcceptedAnswerExist\")\n",
    "    \n",
    "    binaryAssembler = VectorAssembler(inputCols=binaryFeatures, outputCol=\"binaryFeatures\")\n",
    "    df_binary = binaryAssembler.transform(binaryFeaturesDF)\n",
    "    \n",
    "    selector = ChiSqSelector(numTopFeatures=3, featuresCol=\"binaryFeatures\", labelCol=\"AcceptedAnswerExist\", outputCol=\"selectedBinaryFeatures\")\n",
    "    selectedBinaryFeatures = [binaryFeatures[i] for i in selector.fit(df_binary).selectedFeatures]\n",
    "    \n",
    "    final_columns = [\"scaled_features\"]\n",
    "    final_columns.extend(selectedBinaryFeatures)\n",
    "    final_assembler = VectorAssembler(inputCols=final_columns, outputCol=\"final_features\")\n",
    "    \n",
    "    pipeline = Pipeline(stages=[num_assembler, scaler, final_assembler])\n",
    "    transformedData = pipeline.fit(df).transform(df)\n",
    "    train, test = transformedData.randomSplit([0.8, 0.2])\n",
    "    \n",
    "    return train, test"
   ]
  },
  {
   "cell_type": "code",
   "execution_count": 30,
   "id": "2611554f41a1483e",
   "metadata": {
    "ExecuteTime": {
     "end_time": "2024-02-10T17:01:11.576300200Z",
     "start_time": "2024-02-10T16:32:02.430015Z"
    }
   },
   "outputs": [
    {
     "name": "stdout",
     "output_type": "stream",
     "text": [
      "\n",
      "\n",
      "Wyniki dla LogisticRegression\n",
      "AUC: 0.7518655229225865\n",
      "Skuteczność: 0.6914046121593291\n",
      "Macierz pomyłek:\n",
      " [[5070.  681.]\n",
      " [2263. 1526.]]\n",
      "Informedness:\n",
      " 0.2843305987061633\n",
      "\n",
      "\n",
      "Wyniki dla FMClassifier\n",
      "AUC: 0.7579358678107144\n",
      "Skuteczność: 0.6985332911258837\n",
      "Macierz pomyłek:\n",
      " [[4882.  877.]\n",
      " [1980. 1738.]]\n",
      "Informedness:\n",
      " 0.3151722387700857\n",
      "\n",
      "\n",
      "Wyniki dla DecisionTreeClassifier\n",
      "AUC: 0.7615222905430096\n",
      "Skuteczność: 0.7994371685247321\n",
      "Macierz pomyłek:\n",
      " [[4255. 1377.]\n",
      " [ 476. 3131.]]\n",
      "Informedness:\n",
      " 0.6235386389627493\n",
      "\n",
      "\n",
      "Wyniki dla RandomForestClassifier\n",
      "AUC: 0.8432627285222636\n",
      "Skuteczność: 0.7893267475571781\n",
      "Macierz pomyłek:\n",
      " [[4201. 1444.]\n",
      " [ 518. 3150.]]\n",
      "Informedness:\n",
      " 0.6029770316229319\n"
     ]
    }
   ],
   "source": [
    "model_types = [LogisticRegression, FMClassifier, DecisionTreeClassifier, RandomForestClassifier]\n",
    "results_of_simulations_selected_features = simulations(df_classification, selecting_columns, model_types)"
   ]
  },
  {
   "cell_type": "markdown",
   "id": "5b04eda631fdc128",
   "metadata": {},
   "source": [
    "Przy budowie modelu GBT występuje problem z brakiem pamięci przy rozgłaszaniu tabel. Wyłączamy automatyczny braodcasting."
   ]
  },
  {
   "cell_type": "code",
   "execution_count": 35,
   "id": "14b3ab7874bc819a",
   "metadata": {
    "ExecuteTime": {
     "end_time": "2024-02-10T17:03:12.002188500Z",
     "start_time": "2024-02-10T17:03:11.971196500Z"
    }
   },
   "outputs": [],
   "source": [
    "spark.conf.set(\"spark.sql.autoBroadcastJoinThreshold\", -1)"
   ]
  },
  {
   "cell_type": "code",
   "execution_count": 38,
   "id": "59902f59819d4595",
   "metadata": {
    "ExecuteTime": {
     "end_time": "2024-02-10T17:12:03.161561700Z",
     "start_time": "2024-02-10T17:03:50.763184100Z"
    }
   },
   "outputs": [
    {
     "name": "stdout",
     "output_type": "stream",
     "text": [
      "\n",
      "\n",
      "Wyniki dla GBTClassifier\n",
      "AUC: 0.8604831639802557\n",
      "Skuteczność: 0.7928678197736494\n",
      "Macierz pomyłek:\n",
      " [[4327. 1320.]\n",
      " [ 620. 3099.]]\n",
      "Informedness:\n",
      " 0.5995360834977328\n"
     ]
    }
   ],
   "source": [
    "model_types = [GBTClassifier]\n",
    "results_of_simulations_selected_GBT = simulations(df_classification, selecting_columns, model_types)"
   ]
  },
  {
   "cell_type": "code",
   "execution_count": 40,
   "id": "62ee316d3b3e7f5e",
   "metadata": {
    "ExecuteTime": {
     "end_time": "2024-02-10T17:16:27.739011900Z",
     "start_time": "2024-02-10T17:16:27.689013500Z"
    }
   },
   "outputs": [],
   "source": [
    "spark.conf.set(\"spark.sql.autoBroadcastJoinThreshold\", \"10485760\")"
   ]
  },
  {
   "cell_type": "markdown",
   "id": "c536c9d01501bb2f",
   "metadata": {},
   "source": [
    "Teraz zbudujemy modele, jednak z mniejszą ilością zmiennych. Wykorzystamy metodę PCA do zmniejszenia wymiaru zmiennych numerycznych."
   ]
  },
  {
   "cell_type": "code",
   "execution_count": 18,
   "id": "786e4baab29a2f6",
   "metadata": {
    "ExecuteTime": {
     "end_time": "2024-02-10T15:51:06.645730600Z",
     "start_time": "2024-02-10T15:51:06.607733800Z"
    }
   },
   "outputs": [],
   "source": [
    "def dimensionReduction(df, pcaK=3):\n",
    "    columns_to_normalize = [\"_AnswerCount\", \"_CommentCount\", \"BodyLen\", \"_Score\", \"TitleLen\", \"_ViewCount\", \"_UpVotes\",\n",
    "                            \"_Views\"]\n",
    "    num_assembler = VectorAssembler(inputCols=columns_to_normalize, outputCol=\"numeric_features\")\n",
    "    scaler = StandardScaler(inputCol=\"numeric_features\", outputCol=\"scaledFeatures\", withStd=True, withMean=True)\n",
    "    pca = PCA(k=pcaK, inputCol=\"scaledFeatures\", outputCol=\"pcaFeatures\")\n",
    "    \n",
    "    final_columns = [\"pcaFeatures\", \"TagVisas\", \"TagUsa\", \"TagUk\", \"TagAir-travel\", \"TagCustoms-and-immigration\",\n",
    "                     \"IfClosed\"]\n",
    "    final_assembler = VectorAssembler(inputCols=final_columns, outputCol=\"final_features\")\n",
    "    \n",
    "    pipeline = Pipeline(stages=[num_assembler, scaler, pca, final_assembler])\n",
    "    transformedData = pipeline.fit(df).transform(df)\n",
    "    train, test = transformedData.randomSplit([0.8, 0.2])\n",
    "    \n",
    "    return train, test"
   ]
  },
  {
   "cell_type": "code",
   "execution_count": 23,
   "id": "7f22902ede562334",
   "metadata": {
    "ExecuteTime": {
     "end_time": "2024-02-10T16:31:19.623632100Z",
     "start_time": "2024-02-10T15:54:16.726276100Z"
    }
   },
   "outputs": [
    {
     "name": "stdout",
     "output_type": "stream",
     "text": [
      "\n",
      "\n",
      "Wyniki dla LogisticRegression\n",
      "AUC: 0.7411358543603077\n",
      "Skuteczność: 0.683152520740268\n",
      "Macierz pomyłek:\n",
      " [[5044.  648.]\n",
      " [2331. 1379.]]\n",
      "Informedness:\n",
      " 0.2578541216404353\n",
      "\n",
      "\n",
      "Wyniki dla FMClassifier\n",
      "AUC: 0.7376280246408327\n",
      "Skuteczność: 0.6838219559169698\n",
      "Macierz pomyłek:\n",
      " [[4940.  729.]\n",
      " [2226. 1451.]]\n",
      "Informedness:\n",
      " 0.2660210671063967\n",
      "\n",
      "\n",
      "Wyniki dla DecisionTreeClassifier\n",
      "AUC: 0.3510274133494749\n",
      "Skuteczność: 0.6929474025272707\n",
      "Macierz pomyłek:\n",
      " [[4414. 1316.]\n",
      " [1527. 2002.]]\n",
      "Informedness:\n",
      " 0.3376311064097677\n",
      "\n",
      "\n",
      "Wyniki dla RandomForestClassifier\n",
      "AUC: 0.7351761722915304\n",
      "Skuteczność: 0.6873298429319372\n",
      "Macierz pomyłek:\n",
      " [[4808.  977.]\n",
      " [2009. 1756.]]\n",
      "Informedness:\n",
      " 0.2975160148802658\n",
      "\n",
      "\n",
      "Wyniki dla GBTClassifier\n",
      "AUC: 0.7479848126815702\n",
      "Skuteczność: 0.6871113017370791\n",
      "Macierz pomyłek:\n",
      " [[4505. 1079.]\n",
      " [1839. 1903.]]\n",
      "Informedness:\n",
      " 0.31532091767116555\n"
     ]
    }
   ],
   "source": [
    "model_types = [LogisticRegression, FMClassifier, DecisionTreeClassifier, RandomForestClassifier, GBTClassifier]\n",
    "results_of_simulations_pca = simulations(df_classification, dimensionReduction, model_types)"
   ]
  },
  {
   "cell_type": "markdown",
   "id": "e73076332cfb5e63",
   "metadata": {},
   "source": [
    "Ponieważ w modelu drzewa decyzyjnego wychodzi absurdalnie niska wartość AUC (poniżej 0.5, mimo nie najgorszych wartości pozostałych statystyk), spróbujemy zbudować model jeszcze raz. "
   ]
  },
  {
   "cell_type": "code",
   "execution_count": 92,
   "id": "c4c2b0a7f13b2aae",
   "metadata": {
    "ExecuteTime": {
     "end_time": "2024-02-10T20:27:52.618216700Z",
     "start_time": "2024-02-10T20:19:32.020220200Z"
    }
   },
   "outputs": [
    {
     "name": "stdout",
     "output_type": "stream",
     "text": [
      "\n",
      "\n",
      "Wyniki dla DecisionTreeClassifier\n",
      "AUC: 0.35942352140172495\n",
      "Skuteczność: 0.6821870995301154\n",
      "Macierz pomyłek:\n",
      " [[4466. 1267.]\n",
      " [1709. 1922.]]\n",
      "Informedness:\n",
      " 0.30832954187401995\n"
     ]
    }
   ],
   "source": [
    "model_types = [DecisionTreeClassifier]\n",
    "results_of_simulations_pca2 = simulations(df_classification, dimensionReduction, model_types)"
   ]
  },
  {
   "cell_type": "markdown",
   "id": "3a9b9199bf1f049e",
   "metadata": {},
   "source": [
    "Na koniec spróbujemy stworzyć model jedynie z użyciem treści postów. Wykorzystamy do tego narzędzia służące do analizy semantycznej. W szczególności najpierw dokonamy tokenizacji słów, następnie wyrzucimy słowa nie wnoszące nic do kontekstu (spójniki, zaimki itp.). Na koniec dokonamy wektoryzacji treści postów za pomocą algorytmu Word2Vec. Do klasyfikacji wykorzystamy te same algorytmy co poprzednio. "
   ]
  },
  {
   "cell_type": "code",
   "execution_count": 88,
   "id": "71e4ccba147f9ce7",
   "metadata": {
    "ExecuteTime": {
     "end_time": "2024-02-10T18:05:19.265754100Z",
     "start_time": "2024-02-10T18:05:19.210755200Z"
    }
   },
   "outputs": [],
   "source": [
    "def embeddings(df):\n",
    "\n",
    "    tokenizer1 = Tokenizer(inputCol=\"Body\", outputCol=\"words1\")\n",
    "    remover1 = StopWordsRemover(inputCol=\"words1\", outputCol=\"filtered_words1\")\n",
    "    word2Vec1 = Word2Vec(inputCol=\"filtered_words1\", outputCol=\"features1\", vectorSize=100, minCount=5)\n",
    "    \n",
    "    tokenizer2 = Tokenizer(inputCol=\"Title\", outputCol=\"words2\")\n",
    "    remover2 = StopWordsRemover(inputCol=\"words2\", outputCol=\"filtered_words2\")\n",
    "    word2Vec2 = Word2Vec(inputCol=\"filtered_words2\", outputCol=\"features2\", vectorSize=100, minCount=5)\n",
    "    \n",
    "    vectorAssembler = VectorAssembler(inputCols=[\"features1\", \"features2\"], outputCol=\"final_features\")\n",
    "    \n",
    "    pipeline = Pipeline(stages=[tokenizer1, remover1, word2Vec1, tokenizer2, remover2, word2Vec2, vectorAssembler])\n",
    "    transformedData = pipeline.fit(df).transform(df)\n",
    "    train, test = transformedData.randomSplit([0.8, 0.2])\n",
    "    \n",
    "    return train, test"
   ]
  },
  {
   "cell_type": "code",
   "execution_count": 91,
   "id": "f2227206570dcf49",
   "metadata": {
    "ExecuteTime": {
     "end_time": "2024-02-10T19:19:26.103031600Z",
     "start_time": "2024-02-10T18:09:49.031934800Z"
    }
   },
   "outputs": [
    {
     "name": "stdout",
     "output_type": "stream",
     "text": [
      "\n",
      "\n",
      "Wyniki dla LogisticRegression\n",
      "AUC: 0.7343730987214051\n",
      "Skuteczność: 0.6782853431478675\n",
      "Macierz pomyłek:\n",
      " [[4302. 1224.]\n",
      " [1748. 1964.]]\n",
      "Informedness:\n",
      " 0.30759645625070187\n",
      "\n",
      "\n",
      "Wyniki dla FMClassifier\n",
      "AUC: 0.7096447602778394\n",
      "Skuteczność: 0.647445570165984\n",
      "Macierz pomyłek:\n",
      " [[3230. 2373.]\n",
      " [ 898. 2777.]]\n",
      "Informedness:\n",
      " 0.332123145885161\n",
      "\n",
      "\n",
      "Wyniki dla DecisionTreeClassifier\n",
      "AUC: 0.6067503525864754\n",
      "Skuteczność: 0.6618574329379074\n",
      "Macierz pomyłek:\n",
      " [[3847. 1773.]\n",
      " [1391. 2346.]]\n",
      "Informedness:\n",
      " 0.31229586409636445\n",
      "\n",
      "\n",
      "Wyniki dla RandomForestClassifier\n",
      "AUC: 0.7247507549010787\n",
      "Skuteczność: 0.6747065790890492\n",
      "Macierz pomyłek:\n",
      " [[4524. 1126.]\n",
      " [1895. 1742.]]\n",
      "Informedness:\n",
      " 0.2796741455201093\n",
      "\n",
      "\n",
      "Wyniki dla GBTClassifier\n",
      "AUC: 0.7182926297618348\n",
      "Skuteczność: 0.6638228941684665\n",
      "Macierz pomyłek:\n",
      " [[3957. 1576.]\n",
      " [1537. 2190.]]\n",
      "Informedness:\n",
      " 0.3027675350923946\n"
     ]
    }
   ],
   "source": [
    "model_types = [LogisticRegression, FMClassifier, DecisionTreeClassifier, RandomForestClassifier, GBTClassifier]\n",
    "results_of_simulations_semantic = simulations(df_semantic, embeddings, model_types)"
   ]
  },
  {
   "cell_type": "markdown",
   "id": "cea2d85d4757fff3",
   "metadata": {},
   "source": [
    "## Wyniki"
   ]
  },
  {
   "cell_type": "markdown",
   "id": "582dc977534f4283",
   "metadata": {},
   "source": [
    "Najpierw spójrzmy na wyniki dla modeli, które uwzględniają wszystkie zmienne, które zostały po wstępnej selekcji. Widać, że modele oparte na drzewach są o wiele lepsze w zasadzie w każdym z kryteriów. Skuteczność i kryterium Informedness dają podobne rezultaty, choć w każdym z nich najlepsze są modele GBT. Natomiast las losowy daje wyjątkowo dużą wartość, jeśli chodzi o pole pod krzywą ROC. "
   ]
  },
  {
   "cell_type": "markdown",
   "id": "668dfda4b678adc3",
   "metadata": {},
   "source": [
    "Tabela metryk, dla modelu z  uwzględnieniem wszystkich zmiennych: \n",
    "\n",
    "| Metryka     | Regresja Logistyczna | Factorial Matrix | Drzewo Decyzyjne   | Las Losowy         | Gradient-Boosted Trees  |\n",
    "|-------------|----------------------|------------------|--------------------|--------------------|-------------------------|\n",
    "| Skuteczność | 0.6895               | 0.6952           | 0.7948 | 0.7937| 0.7975                  |\n",
    "| AUC         | 0.7426 | 0.7567 | 0.7521 | 0.8484 | 0.7974                  |\n",
    "| Informedness| 0.2816 | 0.3113 | 0.6066 | 0.6057 | 0.6092                  |"
   ]
  },
  {
   "cell_type": "markdown",
   "id": "7b65112463b8adf0",
   "metadata": {},
   "source": [
    "W przypadku modelu, w którym wyselekcjonowaliśmy zmienne binarne, w większości statystyki są zbliżone do poprzednich. Niemniej zwykle są nieco lepsze lub chociaż niewiele gorsze od poprzednich. Znacząca poprawa nastąpiła, jeśli chodzi o pole pod krzywą ROC w modelu Gradient-Boosted Trees (z 0.80 na 0.86). Być może rzeczywiście na początku było zbyt dużo cech, co doprowadziło do lekkiego przeuczenia, choć podkreślmy, że nie są to duże różnice."
   ]
  },
  {
   "cell_type": "markdown",
   "id": "2638869cf8859add",
   "metadata": {},
   "source": [
    "Tabela metryk, dla modelu z wybranymi zmiennymi binarnymi: \n",
    "\n",
    "| Metryka     | Regresja Logistyczna | Factorial Matrix | Drzewo Decyzyjne   | Las Losowy | Gradient-Boosted Trees |\n",
    "|-------------|----------------------|------------------|--------------------|------------|------------------------|\n",
    "| Skuteczność | 0.6914               | 0.6985           | 0.7994 | 0.7893     | 0.7929                 |\n",
    "| AUC         | 0.7519               | 0.7579           | 0.7615 | 0.8433     | 0.8604                |\n",
    "| Informedness| 0.2843               | 0.3152           | 0.6235 | 0.6029     | 0.5995                 |"
   ]
  },
  {
   "cell_type": "markdown",
   "id": "bababa6103d3fac3",
   "metadata": {},
   "source": [
    "W przypadku danych po redukcji wymiaru wyniki pogorszyły się, czasem znacząco. Mamy też jedną anomalię, która zdarzyła się dwukrotnie, czyli bardzo niska wartość AUC w przypadku drzewa decyzyjnego. Trudno ją wytłumaczyć patrząc na inne statystyki. Tym bardziej, że drzewo ma najwyższą wartość statystyki Informedness. Poza tym wszystkie algorytmy oparte na drzewach zaliczyły duży spadek, jeśli chodzi o skuteczność. Jest to coś, co się zdarza często ze względu na charakter tych algorytmów. Są one tak stworzone, aby radzić sobie z duża ilością danych wejściowych, ponieważ większa ilość danych daje większą liczbę potencjalnych węzłów. Poza tym właśnie ich największą przewagą jest możliwość modelowania nieliniowych zależności, w przeciwieństwie do większości klasycznych algorytmów. Kiedy użyliśmy metody liniowej PCA, niejako odebraliśmy im tą przewagę."
   ]
  },
  {
   "cell_type": "markdown",
   "id": "31bdd1572020c62f",
   "metadata": {},
   "source": [
    "Tabela metryk, dla modelu z redukcją wymiaru: \n",
    "\n",
    "| Metryka         | Regresja Logistyczna | FMClassifier       | Drzewo Decyzyjne   | Las Losowy         | Gradient-Boosted Trees |\n",
    "|-----------------|----------------------|--------------------|--------------------|--------------------|------------------------|\n",
    "| Skuteczność     | 0.6832               | 0.6838             | 0.6929             | 0.6873             | 0.6871                 |\n",
    "| AUC             | 0.7411               | 0.7376             | 0.3510             | 0.7352             | 0.7480                 |\n",
    "| Informedness    | 0.2579               | 0.2660             | 0.3376             | 0.2975             | 0.3153                 |\n"
   ]
  },
  {
   "cell_type": "markdown",
   "id": "eb7540327adf156d",
   "metadata": {},
   "source": [
    "Na koniec jeszcze przedstawmy wyniki próby użycia analizy semantycznej. Jak widać są one zwykle nieco gorsze. Zdarzają się przypadki lepszych wartości statystyk. W szczególności regresja logistyczna i factorial matrix dają lepszy wynik w krytetrium Informedness. Jednak należy pamiętać, że te wyniki są i tak niezłe jak na to, że nie użyliśmy żadnych innych danych poza samą treścią tekstu. Minusem takiego podejścia jest oczywiście złożoność. Sam proces wektroyzacji trwał długo, a jeszcze należy dorzucić często skomplikowane algorytmy klasyfikacyjne.  "
   ]
  },
  {
   "cell_type": "markdown",
   "id": "cb55cc1136b8f331",
   "metadata": {},
   "source": [
    "| Metryka         | Regresja Logistyczna | FMClassifier       | Drzewo Decyzyjne   | Las Losowy         | Gradient-Boosted Trees |\n",
    "|-----------------|----------------------|--------------------|--------------------|--------------------|------------------------|\n",
    "| Skuteczność     | 0.6783               | 0.6474             | 0.6619             | 0.6747             | 0.6638                 |\n",
    "| AUC             | 0.7344               | 0.7096             | 0.6068             | 0.7248             | 0.7183                 |\n",
    "| Informedness    | 0.3076               | 0.3321             | 0.3123             | 0.2797             | 0.3028                 |\n"
   ]
  },
  {
   "cell_type": "markdown",
   "id": "68b2e7ac23baa3cc",
   "metadata": {},
   "source": [
    "## Podsumowanie"
   ]
  },
  {
   "cell_type": "markdown",
   "id": "7ffae0807638a437",
   "metadata": {},
   "source": [
    "Zdecydowanie najlepszymi modelami okazały się te oparte na drzewach. Patrząc całościowo, gdybyśmy mieli wybrać jeden model z tych przetestowanych przez nas, byłby to prawdopodobnie las losowy lub GBT, przy użyciu wcześniejszej selekcji cech za pomocą testu Chi-kwadrat. Przed wykonaniem symulacji baliśmy się tego, że złożone metody przy tak dużej ilości danych przeuczą się, ale ten problem jakoś szczególnie nie występował. Ponieważ mamy niezbalansowane klasy, to skuteczność może nie jest najlepszą statystyką do oceny, jednak kiedy uzyskujemy wyniki ok. 0.60 w kryterium Bookmaker Informedness i ok. 0.85 AUC, to wydaje się, że model ten ma istotną wartość analityczną."
   ]
  }
 ],
 "metadata": {
  "kernelspec": {
   "display_name": "sparkVenv",
   "language": "python",
   "name": "sparkvenv"
  },
  "language_info": {
   "codemirror_mode": {
    "name": "ipython",
    "version": 3
   },
   "file_extension": ".py",
   "mimetype": "text/x-python",
   "name": "python",
   "nbconvert_exporter": "python",
   "pygments_lexer": "ipython3",
   "version": "3.8.8"
  }
 },
 "nbformat": 4,
 "nbformat_minor": 5
}
